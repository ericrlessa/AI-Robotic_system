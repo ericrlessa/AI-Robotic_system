{
 "cells": [
  {
   "cell_type": "code",
   "execution_count": 1,
   "metadata": {},
   "outputs": [],
   "source": [
    "import cv2  # For image processing\n",
    "from flask import Flask, Response, render_template, request, jsonify  # Flask web server\n",
    "import threading  # For background processing\n",
    "import socket  # To get IP address\n",
    "import requests  # For sending HTTP requests\n",
    "import numpy as np  # For image decoding and processing\n",
    "from camera_functions import yolo_results, yolo_ds_draw, yolo_ds_model_initalize, yolo_ds_update "
   ]
  },
  {
   "cell_type": "code",
   "execution_count": 1,
   "metadata": {},
   "outputs": [
    {
     "name": "stdout",
     "output_type": "stream",
     "text": [
      "Requirement already satisfied: pip in /opt/anaconda3/envs/yolo_deployment/lib/python3.12/site-packages (25.0)\n",
      "\u001b[31mERROR: Could not find a version that satisfies the requirement install (from versions: none)\u001b[0m\u001b[31m\n",
      "\u001b[0m\u001b[31mERROR: No matching distribution found for install\u001b[0m\u001b[31m\n",
      "\u001b[0mNote: you may need to restart the kernel to use updated packages.\n"
     ]
    }
   ],
   "source": [
    "pip install pip install torch torchvision torchaudio"
   ]
  },
  {
   "cell_type": "code",
   "execution_count": 2,
   "metadata": {},
   "outputs": [
    {
     "name": "stdout",
     "output_type": "stream",
     "text": [
      "Requirement already satisfied: deep-sort-realtime in /opt/anaconda3/envs/yolo_deployment/lib/python3.12/site-packages (1.3.2)\n",
      "Requirement already satisfied: numpy in /opt/anaconda3/envs/yolo_deployment/lib/python3.12/site-packages (from deep-sort-realtime) (2.1.1)\n",
      "Requirement already satisfied: scipy in /opt/anaconda3/envs/yolo_deployment/lib/python3.12/site-packages (from deep-sort-realtime) (1.15.2)\n",
      "Requirement already satisfied: opencv-python in /opt/anaconda3/envs/yolo_deployment/lib/python3.12/site-packages (from deep-sort-realtime) (4.11.0.86)\n",
      "Note: you may need to restart the kernel to use updated packages.\n"
     ]
    }
   ],
   "source": [
    "pip install deep-sort-realtime\n"
   ]
  },
  {
   "cell_type": "code",
   "execution_count": 3,
   "metadata": {},
   "outputs": [
    {
     "name": "stdout",
     "output_type": "stream",
     "text": [
      "Requirement already satisfied: ultralytics in /opt/anaconda3/envs/yolo_deployment/lib/python3.12/site-packages (8.3.100)\n",
      "Requirement already satisfied: numpy<=2.1.1,>=1.23.0 in /opt/anaconda3/envs/yolo_deployment/lib/python3.12/site-packages (from ultralytics) (2.1.1)\n",
      "Requirement already satisfied: matplotlib>=3.3.0 in /opt/anaconda3/envs/yolo_deployment/lib/python3.12/site-packages (from ultralytics) (3.10.1)\n",
      "Requirement already satisfied: opencv-python>=4.6.0 in /opt/anaconda3/envs/yolo_deployment/lib/python3.12/site-packages (from ultralytics) (4.11.0.86)\n",
      "Requirement already satisfied: pillow>=7.1.2 in /opt/anaconda3/envs/yolo_deployment/lib/python3.12/site-packages (from ultralytics) (11.1.0)\n",
      "Requirement already satisfied: pyyaml>=5.3.1 in /opt/anaconda3/envs/yolo_deployment/lib/python3.12/site-packages (from ultralytics) (6.0.2)\n",
      "Requirement already satisfied: requests>=2.23.0 in /opt/anaconda3/envs/yolo_deployment/lib/python3.12/site-packages (from ultralytics) (2.32.3)\n",
      "Requirement already satisfied: scipy>=1.4.1 in /opt/anaconda3/envs/yolo_deployment/lib/python3.12/site-packages (from ultralytics) (1.15.2)\n",
      "Requirement already satisfied: torch>=1.8.0 in /opt/anaconda3/envs/yolo_deployment/lib/python3.12/site-packages (from ultralytics) (2.6.0)\n",
      "Requirement already satisfied: torchvision>=0.9.0 in /opt/anaconda3/envs/yolo_deployment/lib/python3.12/site-packages (from ultralytics) (0.21.0)\n",
      "Requirement already satisfied: tqdm>=4.64.0 in /opt/anaconda3/envs/yolo_deployment/lib/python3.12/site-packages (from ultralytics) (4.67.1)\n",
      "Requirement already satisfied: psutil in /opt/anaconda3/envs/yolo_deployment/lib/python3.12/site-packages (from ultralytics) (5.9.0)\n",
      "Requirement already satisfied: py-cpuinfo in /opt/anaconda3/envs/yolo_deployment/lib/python3.12/site-packages (from ultralytics) (9.0.0)\n",
      "Requirement already satisfied: pandas>=1.1.4 in /opt/anaconda3/envs/yolo_deployment/lib/python3.12/site-packages (from ultralytics) (2.2.3)\n",
      "Requirement already satisfied: seaborn>=0.11.0 in /opt/anaconda3/envs/yolo_deployment/lib/python3.12/site-packages (from ultralytics) (0.13.2)\n",
      "Requirement already satisfied: ultralytics-thop>=2.0.0 in /opt/anaconda3/envs/yolo_deployment/lib/python3.12/site-packages (from ultralytics) (2.0.14)\n",
      "Requirement already satisfied: contourpy>=1.0.1 in /opt/anaconda3/envs/yolo_deployment/lib/python3.12/site-packages (from matplotlib>=3.3.0->ultralytics) (1.3.1)\n",
      "Requirement already satisfied: cycler>=0.10 in /opt/anaconda3/envs/yolo_deployment/lib/python3.12/site-packages (from matplotlib>=3.3.0->ultralytics) (0.12.1)\n",
      "Requirement already satisfied: fonttools>=4.22.0 in /opt/anaconda3/envs/yolo_deployment/lib/python3.12/site-packages (from matplotlib>=3.3.0->ultralytics) (4.56.0)\n",
      "Requirement already satisfied: kiwisolver>=1.3.1 in /opt/anaconda3/envs/yolo_deployment/lib/python3.12/site-packages (from matplotlib>=3.3.0->ultralytics) (1.4.8)\n",
      "Requirement already satisfied: packaging>=20.0 in /opt/anaconda3/envs/yolo_deployment/lib/python3.12/site-packages (from matplotlib>=3.3.0->ultralytics) (24.2)\n",
      "Requirement already satisfied: pyparsing>=2.3.1 in /opt/anaconda3/envs/yolo_deployment/lib/python3.12/site-packages (from matplotlib>=3.3.0->ultralytics) (3.2.3)\n",
      "Requirement already satisfied: python-dateutil>=2.7 in /opt/anaconda3/envs/yolo_deployment/lib/python3.12/site-packages (from matplotlib>=3.3.0->ultralytics) (2.9.0.post0)\n",
      "Requirement already satisfied: pytz>=2020.1 in /opt/anaconda3/envs/yolo_deployment/lib/python3.12/site-packages (from pandas>=1.1.4->ultralytics) (2025.2)\n",
      "Requirement already satisfied: tzdata>=2022.7 in /opt/anaconda3/envs/yolo_deployment/lib/python3.12/site-packages (from pandas>=1.1.4->ultralytics) (2025.2)\n",
      "Requirement already satisfied: charset-normalizer<4,>=2 in /opt/anaconda3/envs/yolo_deployment/lib/python3.12/site-packages (from requests>=2.23.0->ultralytics) (3.4.1)\n",
      "Requirement already satisfied: idna<4,>=2.5 in /opt/anaconda3/envs/yolo_deployment/lib/python3.12/site-packages (from requests>=2.23.0->ultralytics) (3.10)\n",
      "Requirement already satisfied: urllib3<3,>=1.21.1 in /opt/anaconda3/envs/yolo_deployment/lib/python3.12/site-packages (from requests>=2.23.0->ultralytics) (2.3.0)\n",
      "Requirement already satisfied: certifi>=2017.4.17 in /opt/anaconda3/envs/yolo_deployment/lib/python3.12/site-packages (from requests>=2.23.0->ultralytics) (2025.1.31)\n",
      "Requirement already satisfied: filelock in /opt/anaconda3/envs/yolo_deployment/lib/python3.12/site-packages (from torch>=1.8.0->ultralytics) (3.18.0)\n",
      "Requirement already satisfied: typing-extensions>=4.10.0 in /opt/anaconda3/envs/yolo_deployment/lib/python3.12/site-packages (from torch>=1.8.0->ultralytics) (4.13.0)\n",
      "Requirement already satisfied: networkx in /opt/anaconda3/envs/yolo_deployment/lib/python3.12/site-packages (from torch>=1.8.0->ultralytics) (3.4.2)\n",
      "Requirement already satisfied: jinja2 in /opt/anaconda3/envs/yolo_deployment/lib/python3.12/site-packages (from torch>=1.8.0->ultralytics) (3.1.6)\n",
      "Requirement already satisfied: fsspec in /opt/anaconda3/envs/yolo_deployment/lib/python3.12/site-packages (from torch>=1.8.0->ultralytics) (2025.3.2)\n",
      "Requirement already satisfied: setuptools in /opt/anaconda3/envs/yolo_deployment/lib/python3.12/site-packages (from torch>=1.8.0->ultralytics) (75.8.0)\n",
      "Requirement already satisfied: sympy==1.13.1 in /opt/anaconda3/envs/yolo_deployment/lib/python3.12/site-packages (from torch>=1.8.0->ultralytics) (1.13.1)\n",
      "Requirement already satisfied: mpmath<1.4,>=1.1.0 in /opt/anaconda3/envs/yolo_deployment/lib/python3.12/site-packages (from sympy==1.13.1->torch>=1.8.0->ultralytics) (1.3.0)\n",
      "Requirement already satisfied: six>=1.5 in /opt/anaconda3/envs/yolo_deployment/lib/python3.12/site-packages (from python-dateutil>=2.7->matplotlib>=3.3.0->ultralytics) (1.17.0)\n",
      "Requirement already satisfied: MarkupSafe>=2.0 in /opt/anaconda3/envs/yolo_deployment/lib/python3.12/site-packages (from jinja2->torch>=1.8.0->ultralytics) (3.0.2)\n",
      "Note: you may need to restart the kernel to use updated packages.\n"
     ]
    }
   ],
   "source": [
    "pip install ultralytics\n"
   ]
  },
  {
   "cell_type": "code",
   "execution_count": 4,
   "metadata": {},
   "outputs": [
    {
     "name": "stdout",
     "output_type": "stream",
     "text": [
      "Requirement already satisfied: flask in /opt/anaconda3/envs/yolo_deployment/lib/python3.12/site-packages (3.1.0)\n",
      "Requirement already satisfied: opencv-python in /opt/anaconda3/envs/yolo_deployment/lib/python3.12/site-packages (4.11.0.86)\n",
      "Requirement already satisfied: Werkzeug>=3.1 in /opt/anaconda3/envs/yolo_deployment/lib/python3.12/site-packages (from flask) (3.1.3)\n",
      "Requirement already satisfied: Jinja2>=3.1.2 in /opt/anaconda3/envs/yolo_deployment/lib/python3.12/site-packages (from flask) (3.1.6)\n",
      "Requirement already satisfied: itsdangerous>=2.2 in /opt/anaconda3/envs/yolo_deployment/lib/python3.12/site-packages (from flask) (2.2.0)\n",
      "Requirement already satisfied: click>=8.1.3 in /opt/anaconda3/envs/yolo_deployment/lib/python3.12/site-packages (from flask) (8.1.8)\n",
      "Requirement already satisfied: blinker>=1.9 in /opt/anaconda3/envs/yolo_deployment/lib/python3.12/site-packages (from flask) (1.9.0)\n",
      "Requirement already satisfied: numpy>=1.21.2 in /opt/anaconda3/envs/yolo_deployment/lib/python3.12/site-packages (from opencv-python) (2.1.1)\n",
      "Requirement already satisfied: MarkupSafe>=2.0 in /opt/anaconda3/envs/yolo_deployment/lib/python3.12/site-packages (from Jinja2>=3.1.2->flask) (3.0.2)\n",
      "Note: you may need to restart the kernel to use updated packages.\n"
     ]
    }
   ],
   "source": [
    "pip install flask opencv-python"
   ]
  },
  {
   "cell_type": "code",
   "execution_count": 5,
   "metadata": {},
   "outputs": [
    {
     "name": "stdout",
     "output_type": "stream",
     "text": [
      "Requirement already satisfied: gpiozero in /opt/anaconda3/envs/yolo_deployment/lib/python3.12/site-packages (2.0.1)\n",
      "Requirement already satisfied: colorzero in /opt/anaconda3/envs/yolo_deployment/lib/python3.12/site-packages (from gpiozero) (2.0)\n",
      "Requirement already satisfied: setuptools in /opt/anaconda3/envs/yolo_deployment/lib/python3.12/site-packages (from colorzero->gpiozero) (75.8.0)\n",
      "Note: you may need to restart the kernel to use updated packages.\n"
     ]
    }
   ],
   "source": [
    "pip install gpiozero\n"
   ]
  },
  {
   "cell_type": "code",
   "execution_count": null,
   "metadata": {},
   "outputs": [
    {
     "name": "stdout",
     "output_type": "stream",
     "text": [
      " * Serving Flask app '__main__'\n",
      " * Debug mode: off\n"
     ]
    },
    {
     "name": "stderr",
     "output_type": "stream",
     "text": [
      "\u001b[31m\u001b[1mWARNING: This is a development server. Do not use it in a production deployment. Use a production WSGI server instead.\u001b[0m\n",
      " * Running on all addresses (0.0.0.0)\n",
      " * Running on http://127.0.0.1:4000\n",
      " * Running on http://192.168.8.60:4000\n",
      "\u001b[33mPress CTRL+C to quit\u001b[0m\n",
      "2025-04-10 20:20:08.016 python[29686:7528309] WARNING: AVCaptureDeviceTypeExternal is deprecated for Continuity Cameras. Please use AVCaptureDeviceTypeContinuityCamera and add NSCameraUseContinuityCameraDeviceType to your Info.plist.\n",
      "127.0.0.1 - - [10/Apr/2025 20:20:09] \"GET / HTTP/1.1\" 200 -\n",
      "192.168.8.60 - - [10/Apr/2025 20:20:09] \"GET /video_feed HTTP/1.1\" 200 -\n"
     ]
    },
    {
     "name": "stdout",
     "output_type": "stream",
     "text": [
      "\n",
      "0: 384x640 (no detections), 128.2ms\n",
      "Speed: 5.2ms preprocess, 128.2ms inference, 2.9ms postprocess per image at shape (1, 3, 384, 640)\n",
      "\n",
      "0: 384x640 1 person, 1 tie, 74.9ms\n",
      "Speed: 2.6ms preprocess, 74.9ms inference, 6.9ms postprocess per image at shape (1, 3, 384, 640)\n"
     ]
    },
    {
     "name": "stderr",
     "output_type": "stream",
     "text": [
      "127.0.0.1 - - [10/Apr/2025 20:20:10] \"GET /get_tracking_action HTTP/1.1\" 200 -\n"
     ]
    },
    {
     "name": "stdout",
     "output_type": "stream",
     "text": [
      "\n",
      "0: 384x640 1 person, 1 tie, 61.5ms\n",
      "Speed: 3.6ms preprocess, 61.5ms inference, 0.7ms postprocess per image at shape (1, 3, 384, 640)\n",
      "\n",
      "0: 384x640 1 person, 1 tie, 47.2ms\n",
      "Speed: 1.6ms preprocess, 47.2ms inference, 0.7ms postprocess per image at shape (1, 3, 384, 640)\n"
     ]
    },
    {
     "name": "stderr",
     "output_type": "stream",
     "text": [
      "127.0.0.1 - - [10/Apr/2025 20:20:11] \"GET /get_tracking_action HTTP/1.1\" 200 -\n"
     ]
    },
    {
     "name": "stdout",
     "output_type": "stream",
     "text": [
      "\n",
      "0: 384x640 1 person, 1 backpack, 1 tie, 48.9ms\n",
      "Speed: 2.3ms preprocess, 48.9ms inference, 0.6ms postprocess per image at shape (1, 3, 384, 640)\n",
      "\n",
      "0: 384x640 1 person, 1 backpack, 1 tie, 41.8ms\n",
      "Speed: 2.0ms preprocess, 41.8ms inference, 1.1ms postprocess per image at shape (1, 3, 384, 640)\n",
      "\n",
      "0: 384x640 1 person, 1 backpack, 1 tie, 53.9ms\n",
      "Speed: 2.7ms preprocess, 53.9ms inference, 0.7ms postprocess per image at shape (1, 3, 384, 640)\n"
     ]
    },
    {
     "name": "stderr",
     "output_type": "stream",
     "text": [
      "127.0.0.1 - - [10/Apr/2025 20:20:12] \"GET /get_tracking_action HTTP/1.1\" 200 -\n"
     ]
    },
    {
     "name": "stdout",
     "output_type": "stream",
     "text": [
      "\n",
      "0: 384x640 1 person, 1 backpack, 1 tie, 45.2ms\n",
      "Speed: 2.5ms preprocess, 45.2ms inference, 1.0ms postprocess per image at shape (1, 3, 384, 640)\n",
      "\n",
      "0: 384x640 1 person, 1 backpack, 1 tie, 54.7ms\n",
      "Speed: 2.7ms preprocess, 54.7ms inference, 0.6ms postprocess per image at shape (1, 3, 384, 640)\n"
     ]
    },
    {
     "name": "stderr",
     "output_type": "stream",
     "text": [
      "127.0.0.1 - - [10/Apr/2025 20:20:13] \"GET /get_tracking_action HTTP/1.1\" 200 -\n"
     ]
    },
    {
     "name": "stdout",
     "output_type": "stream",
     "text": [
      "\n",
      "0: 384x640 1 person, 1 backpack, 1 tie, 40.4ms\n",
      "Speed: 2.0ms preprocess, 40.4ms inference, 0.7ms postprocess per image at shape (1, 3, 384, 640)\n",
      "\n",
      "0: 384x640 1 person, 1 handbag, 1 tie, 44.7ms\n",
      "Speed: 3.4ms preprocess, 44.7ms inference, 1.1ms postprocess per image at shape (1, 3, 384, 640)\n"
     ]
    },
    {
     "name": "stderr",
     "output_type": "stream",
     "text": [
      "127.0.0.1 - - [10/Apr/2025 20:20:14] \"GET /get_tracking_action HTTP/1.1\" 200 -\n"
     ]
    },
    {
     "name": "stdout",
     "output_type": "stream",
     "text": [
      "\n",
      "0: 384x640 1 person, 1 backpack, 1 tie, 47.5ms\n",
      "Speed: 2.1ms preprocess, 47.5ms inference, 0.6ms postprocess per image at shape (1, 3, 384, 640)\n",
      "\n",
      "0: 384x640 1 person, 1 backpack, 1 tie, 51.3ms\n",
      "Speed: 2.1ms preprocess, 51.3ms inference, 0.9ms postprocess per image at shape (1, 3, 384, 640)\n"
     ]
    },
    {
     "name": "stderr",
     "output_type": "stream",
     "text": [
      "127.0.0.1 - - [10/Apr/2025 20:20:15] \"GET /get_tracking_action HTTP/1.1\" 200 -\n"
     ]
    },
    {
     "name": "stdout",
     "output_type": "stream",
     "text": [
      "\n",
      "0: 384x640 1 person, 1 backpack, 1 tie, 73.6ms\n",
      "Speed: 4.6ms preprocess, 73.6ms inference, 0.7ms postprocess per image at shape (1, 3, 384, 640)\n",
      "\n",
      "0: 384x640 1 person, 1 handbag, 1 tie, 57.5ms\n",
      "Speed: 2.0ms preprocess, 57.5ms inference, 0.7ms postprocess per image at shape (1, 3, 384, 640)\n"
     ]
    },
    {
     "name": "stderr",
     "output_type": "stream",
     "text": [
      "127.0.0.1 - - [10/Apr/2025 20:20:16] \"GET /get_tracking_action HTTP/1.1\" 200 -\n"
     ]
    },
    {
     "name": "stdout",
     "output_type": "stream",
     "text": [
      "\n",
      "0: 384x640 1 person, 1 backpack, 1 tie, 44.9ms\n",
      "Speed: 1.8ms preprocess, 44.9ms inference, 0.6ms postprocess per image at shape (1, 3, 384, 640)\n",
      "\n",
      "0: 384x640 1 person, 1 backpack, 1 tie, 43.6ms\n",
      "Speed: 2.4ms preprocess, 43.6ms inference, 0.7ms postprocess per image at shape (1, 3, 384, 640)\n",
      "\n"
     ]
    },
    {
     "name": "stderr",
     "output_type": "stream",
     "text": [
      "127.0.0.1 - - [10/Apr/2025 20:20:17] \"GET /get_tracking_action HTTP/1.1\" 200 -\n"
     ]
    },
    {
     "name": "stdout",
     "output_type": "stream",
     "text": [
      "0: 384x640 1 person, 1 backpack, 1 tie, 59.0ms\n",
      "Speed: 1.7ms preprocess, 59.0ms inference, 0.6ms postprocess per image at shape (1, 3, 384, 640)\n",
      "\n",
      "0: 384x640 1 person, 1 backpack, 52.9ms\n",
      "Speed: 1.7ms preprocess, 52.9ms inference, 1.2ms postprocess per image at shape (1, 3, 384, 640)\n",
      "\n",
      "0: 384x640 1 person, 1 backpack, 89.3ms\n",
      "Speed: 1.8ms preprocess, 89.3ms inference, 1.4ms postprocess per image at shape (1, 3, 384, 640)\n"
     ]
    },
    {
     "name": "stderr",
     "output_type": "stream",
     "text": [
      "127.0.0.1 - - [10/Apr/2025 20:20:18] \"GET /get_tracking_action HTTP/1.1\" 200 -\n"
     ]
    },
    {
     "name": "stdout",
     "output_type": "stream",
     "text": [
      "\n",
      "0: 384x640 1 person, 1 backpack, 53.8ms\n",
      "Speed: 1.9ms preprocess, 53.8ms inference, 0.6ms postprocess per image at shape (1, 3, 384, 640)\n",
      "\n",
      "0: 384x640 1 person, 1 backpack, 53.3ms\n",
      "Speed: 1.9ms preprocess, 53.3ms inference, 0.6ms postprocess per image at shape (1, 3, 384, 640)\n"
     ]
    },
    {
     "name": "stderr",
     "output_type": "stream",
     "text": [
      "127.0.0.1 - - [10/Apr/2025 20:20:19] \"GET /get_tracking_action HTTP/1.1\" 200 -\n"
     ]
    },
    {
     "name": "stdout",
     "output_type": "stream",
     "text": [
      "\n",
      "0: 384x640 1 person, 1 backpack, 67.2ms\n",
      "Speed: 2.9ms preprocess, 67.2ms inference, 0.7ms postprocess per image at shape (1, 3, 384, 640)\n",
      "\n",
      "0: 384x640 1 person, 1 backpack, 45.3ms\n",
      "Speed: 2.6ms preprocess, 45.3ms inference, 1.3ms postprocess per image at shape (1, 3, 384, 640)\n",
      "\n",
      "0: 384x640 1 person, 1 backpack, 82.8ms\n",
      "Speed: 2.1ms preprocess, 82.8ms inference, 0.6ms postprocess per image at shape (1, 3, 384, 640)\n"
     ]
    },
    {
     "name": "stderr",
     "output_type": "stream",
     "text": [
      "127.0.0.1 - - [10/Apr/2025 20:20:20] \"GET /get_tracking_action HTTP/1.1\" 200 -\n"
     ]
    },
    {
     "name": "stdout",
     "output_type": "stream",
     "text": [
      "\n",
      "0: 384x640 1 person, 1 backpack, 40.7ms\n",
      "Speed: 1.7ms preprocess, 40.7ms inference, 1.2ms postprocess per image at shape (1, 3, 384, 640)\n",
      "\n",
      "0: 384x640 1 person, 1 backpack, 46.4ms\n",
      "Speed: 1.6ms preprocess, 46.4ms inference, 0.7ms postprocess per image at shape (1, 3, 384, 640)\n",
      "\n",
      "0: 384x640 1 person, 1 backpack, 43.2ms\n",
      "Speed: 1.4ms preprocess, 43.2ms inference, 0.6ms postprocess per image at shape (1, 3, 384, 640)\n"
     ]
    },
    {
     "name": "stderr",
     "output_type": "stream",
     "text": [
      "127.0.0.1 - - [10/Apr/2025 20:20:21] \"GET /get_tracking_action HTTP/1.1\" 200 -\n"
     ]
    },
    {
     "name": "stdout",
     "output_type": "stream",
     "text": [
      "\n",
      "0: 384x640 1 person, 1 backpack, 54.2ms\n",
      "Speed: 2.9ms preprocess, 54.2ms inference, 0.6ms postprocess per image at shape (1, 3, 384, 640)\n",
      "\n",
      "0: 384x640 1 person, 1 backpack, 55.4ms\n",
      "Speed: 1.5ms preprocess, 55.4ms inference, 1.5ms postprocess per image at shape (1, 3, 384, 640)\n"
     ]
    },
    {
     "name": "stderr",
     "output_type": "stream",
     "text": [
      "127.0.0.1 - - [10/Apr/2025 20:20:22] \"POST /select_object HTTP/1.1\" 200 -\n",
      "127.0.0.1 - - [10/Apr/2025 20:20:22] \"GET /get_tracking_action HTTP/1.1\" 200 -\n"
     ]
    },
    {
     "name": "stdout",
     "output_type": "stream",
     "text": [
      "\n",
      "0: 384x640 1 person, 1 backpack, 54.5ms\n",
      "Speed: 2.7ms preprocess, 54.5ms inference, 1.0ms postprocess per image at shape (1, 3, 384, 640)\n",
      "\n",
      "0: 384x640 1 person, 1 backpack, 43.5ms\n",
      "Speed: 1.6ms preprocess, 43.5ms inference, 0.5ms postprocess per image at shape (1, 3, 384, 640)\n",
      "\n",
      "0: 384x640 1 person, 1 backpack, 58.6ms\n",
      "Speed: 13.7ms preprocess, 58.6ms inference, 0.7ms postprocess per image at shape (1, 3, 384, 640)\n"
     ]
    },
    {
     "name": "stderr",
     "output_type": "stream",
     "text": [
      "127.0.0.1 - - [10/Apr/2025 20:20:23] \"GET /get_tracking_action HTTP/1.1\" 200 -\n"
     ]
    },
    {
     "name": "stdout",
     "output_type": "stream",
     "text": [
      "\n",
      "0: 384x640 1 person, 1 backpack, 49.0ms\n",
      "Speed: 2.4ms preprocess, 49.0ms inference, 0.6ms postprocess per image at shape (1, 3, 384, 640)\n",
      "\n"
     ]
    },
    {
     "name": "stderr",
     "output_type": "stream",
     "text": [
      "127.0.0.1 - - [10/Apr/2025 20:20:24] \"GET /get_tracking_action HTTP/1.1\" 200 -\n"
     ]
    },
    {
     "name": "stdout",
     "output_type": "stream",
     "text": [
      "0: 384x640 1 person, 1 backpack, 80.0ms\n",
      "Speed: 1.7ms preprocess, 80.0ms inference, 0.7ms postprocess per image at shape (1, 3, 384, 640)\n",
      "\n",
      "0: 384x640 1 person, 1 backpack, 57.8ms\n",
      "Speed: 1.7ms preprocess, 57.8ms inference, 0.7ms postprocess per image at shape (1, 3, 384, 640)\n",
      "\n",
      "0: 384x640 1 person, 1 backpack, 1 tie, 79.4ms\n",
      "Speed: 1.6ms preprocess, 79.4ms inference, 0.9ms postprocess per image at shape (1, 3, 384, 640)\n"
     ]
    },
    {
     "name": "stderr",
     "output_type": "stream",
     "text": [
      "127.0.0.1 - - [10/Apr/2025 20:20:25] \"GET /get_tracking_action HTTP/1.1\" 200 -\n"
     ]
    },
    {
     "name": "stdout",
     "output_type": "stream",
     "text": [
      "\n",
      "0: 384x640 1 person, 1 backpack, 1 tie, 60.3ms\n",
      "Speed: 1.5ms preprocess, 60.3ms inference, 0.6ms postprocess per image at shape (1, 3, 384, 640)\n",
      "\n",
      "0: 384x640 1 person, 1 handbag, 64.5ms\n",
      "Speed: 3.7ms preprocess, 64.5ms inference, 0.6ms postprocess per image at shape (1, 3, 384, 640)\n",
      "\n"
     ]
    },
    {
     "name": "stderr",
     "output_type": "stream",
     "text": [
      "127.0.0.1 - - [10/Apr/2025 20:20:26] \"GET /get_tracking_action HTTP/1.1\" 200 -\n"
     ]
    },
    {
     "name": "stdout",
     "output_type": "stream",
     "text": [
      "0: 384x640 1 person, 1 handbag, 53.4ms\n",
      "Speed: 1.7ms preprocess, 53.4ms inference, 0.6ms postprocess per image at shape (1, 3, 384, 640)\n",
      "\n",
      "0: 384x640 1 person, 44.0ms\n",
      "Speed: 3.0ms preprocess, 44.0ms inference, 0.7ms postprocess per image at shape (1, 3, 384, 640)\n",
      "\n",
      "0: 384x640 1 person, 86.2ms\n",
      "Speed: 3.8ms preprocess, 86.2ms inference, 0.7ms postprocess per image at shape (1, 3, 384, 640)\n",
      "\n",
      "0: 384x640 1 person, 58.2ms\n",
      "Speed: 2.0ms preprocess, 58.2ms inference, 0.6ms postprocess per image at shape (1, 3, 384, 640)\n"
     ]
    },
    {
     "name": "stderr",
     "output_type": "stream",
     "text": [
      "127.0.0.1 - - [10/Apr/2025 20:20:27] \"GET /get_tracking_action HTTP/1.1\" 200 -\n"
     ]
    },
    {
     "name": "stdout",
     "output_type": "stream",
     "text": [
      "\n",
      "0: 384x640 1 person, 1 bed, 42.7ms\n",
      "Speed: 2.4ms preprocess, 42.7ms inference, 0.6ms postprocess per image at shape (1, 3, 384, 640)\n",
      "\n",
      "0: 384x640 1 person, 1 bed, 62.4ms\n",
      "Speed: 3.8ms preprocess, 62.4ms inference, 2.8ms postprocess per image at shape (1, 3, 384, 640)\n"
     ]
    },
    {
     "name": "stderr",
     "output_type": "stream",
     "text": [
      "127.0.0.1 - - [10/Apr/2025 20:20:28] \"GET /get_tracking_action HTTP/1.1\" 200 -\n"
     ]
    },
    {
     "name": "stdout",
     "output_type": "stream",
     "text": [
      "\n",
      "0: 384x640 1 person, 1 bed, 56.8ms\n",
      "Speed: 1.9ms preprocess, 56.8ms inference, 4.0ms postprocess per image at shape (1, 3, 384, 640)\n",
      "\n",
      "0: 384x640 1 person, 1 bed, 74.2ms\n",
      "Speed: 1.9ms preprocess, 74.2ms inference, 1.2ms postprocess per image at shape (1, 3, 384, 640)\n",
      "\n",
      "0: 384x640 1 person, 43.3ms\n",
      "Speed: 1.5ms preprocess, 43.3ms inference, 0.6ms postprocess per image at shape (1, 3, 384, 640)\n"
     ]
    },
    {
     "name": "stderr",
     "output_type": "stream",
     "text": [
      "127.0.0.1 - - [10/Apr/2025 20:20:29] \"GET /get_tracking_action HTTP/1.1\" 200 -\n"
     ]
    },
    {
     "name": "stdout",
     "output_type": "stream",
     "text": [
      "\n",
      "0: 384x640 1 person, 1 tie, 42.5ms\n",
      "Speed: 1.6ms preprocess, 42.5ms inference, 0.8ms postprocess per image at shape (1, 3, 384, 640)\n",
      "\n",
      "0: 384x640 1 person, 1 tie, 45.5ms\n",
      "Speed: 1.6ms preprocess, 45.5ms inference, 0.7ms postprocess per image at shape (1, 3, 384, 640)\n",
      "\n",
      "0: 384x640 1 person, 1 tie, 49.6ms\n",
      "Speed: 3.5ms preprocess, 49.6ms inference, 0.6ms postprocess per image at shape (1, 3, 384, 640)\n"
     ]
    },
    {
     "name": "stderr",
     "output_type": "stream",
     "text": [
      "127.0.0.1 - - [10/Apr/2025 20:20:30] \"GET /get_tracking_action HTTP/1.1\" 200 -\n"
     ]
    },
    {
     "name": "stdout",
     "output_type": "stream",
     "text": [
      "\n",
      "0: 384x640 1 person, 1 tie, 41.8ms\n",
      "Speed: 2.7ms preprocess, 41.8ms inference, 0.8ms postprocess per image at shape (1, 3, 384, 640)\n",
      "\n",
      "0: 384x640 1 person, 1 tie, 66.8ms\n",
      "Speed: 6.1ms preprocess, 66.8ms inference, 1.0ms postprocess per image at shape (1, 3, 384, 640)\n",
      "\n"
     ]
    },
    {
     "name": "stderr",
     "output_type": "stream",
     "text": [
      "127.0.0.1 - - [10/Apr/2025 20:20:31] \"GET /get_tracking_action HTTP/1.1\" 200 -\n"
     ]
    },
    {
     "name": "stdout",
     "output_type": "stream",
     "text": [
      "0: 384x640 1 person, 61.1ms\n",
      "Speed: 2.0ms preprocess, 61.1ms inference, 0.7ms postprocess per image at shape (1, 3, 384, 640)\n",
      "\n",
      "0: 384x640 1 person, 69.9ms\n",
      "Speed: 2.2ms preprocess, 69.9ms inference, 0.6ms postprocess per image at shape (1, 3, 384, 640)\n",
      "\n",
      "0: 384x640 1 person, 41.6ms\n",
      "Speed: 2.1ms preprocess, 41.6ms inference, 0.6ms postprocess per image at shape (1, 3, 384, 640)\n",
      "\n",
      "0: 384x640 1 person, 1 backpack, 40.8ms\n",
      "Speed: 1.6ms preprocess, 40.8ms inference, 1.6ms postprocess per image at shape (1, 3, 384, 640)\n"
     ]
    },
    {
     "name": "stderr",
     "output_type": "stream",
     "text": [
      "127.0.0.1 - - [10/Apr/2025 20:20:32] \"GET /get_tracking_action HTTP/1.1\" 200 -\n"
     ]
    },
    {
     "name": "stdout",
     "output_type": "stream",
     "text": [
      "\n",
      "0: 384x640 1 person, 1 backpack, 1 tie, 68.5ms\n",
      "Speed: 2.8ms preprocess, 68.5ms inference, 1.7ms postprocess per image at shape (1, 3, 384, 640)\n",
      "\n",
      "0: 384x640 1 person, 1 backpack, 1 tie, 40.7ms\n",
      "Speed: 2.0ms preprocess, 40.7ms inference, 0.6ms postprocess per image at shape (1, 3, 384, 640)\n",
      "\n"
     ]
    },
    {
     "name": "stderr",
     "output_type": "stream",
     "text": [
      "127.0.0.1 - - [10/Apr/2025 20:20:33] \"GET /get_tracking_action HTTP/1.1\" 200 -\n"
     ]
    },
    {
     "name": "stdout",
     "output_type": "stream",
     "text": [
      "0: 384x640 1 person, 1 backpack, 1 tie, 45.3ms\n",
      "Speed: 6.4ms preprocess, 45.3ms inference, 0.6ms postprocess per image at shape (1, 3, 384, 640)\n",
      "\n",
      "0: 384x640 1 person, 1 backpack, 1 tie, 67.0ms\n",
      "Speed: 2.0ms preprocess, 67.0ms inference, 0.7ms postprocess per image at shape (1, 3, 384, 640)\n",
      "\n",
      "0: 384x640 1 person, 1 tie, 1 suitcase, 45.8ms\n",
      "Speed: 2.0ms preprocess, 45.8ms inference, 1.0ms postprocess per image at shape (1, 3, 384, 640)\n"
     ]
    },
    {
     "name": "stderr",
     "output_type": "stream",
     "text": [
      "127.0.0.1 - - [10/Apr/2025 20:20:34] \"GET /get_tracking_action HTTP/1.1\" 200 -\n"
     ]
    },
    {
     "name": "stdout",
     "output_type": "stream",
     "text": [
      "\n",
      "0: 384x640 1 person, 1 tie, 1 suitcase, 52.5ms\n",
      "Speed: 2.2ms preprocess, 52.5ms inference, 1.5ms postprocess per image at shape (1, 3, 384, 640)\n",
      "\n",
      "0: 384x640 1 person, 1 tie, 1 suitcase, 43.3ms\n",
      "Speed: 1.7ms preprocess, 43.3ms inference, 0.5ms postprocess per image at shape (1, 3, 384, 640)\n"
     ]
    },
    {
     "name": "stderr",
     "output_type": "stream",
     "text": [
      "127.0.0.1 - - [10/Apr/2025 20:20:35] \"GET /get_tracking_action HTTP/1.1\" 200 -\n"
     ]
    },
    {
     "name": "stdout",
     "output_type": "stream",
     "text": [
      "\n",
      "0: 384x640 1 person, 1 backpack, 1 tie, 394.3ms\n",
      "Speed: 2.3ms preprocess, 394.3ms inference, 9.9ms postprocess per image at shape (1, 3, 384, 640)\n"
     ]
    },
    {
     "name": "stderr",
     "output_type": "stream",
     "text": [
      "127.0.0.1 - - [10/Apr/2025 20:20:36] \"GET /get_tracking_action HTTP/1.1\" 200 -\n"
     ]
    },
    {
     "name": "stdout",
     "output_type": "stream",
     "text": [
      "\n",
      "0: 384x640 1 person, 1 backpack, 55.6ms\n",
      "Speed: 2.2ms preprocess, 55.6ms inference, 0.7ms postprocess per image at shape (1, 3, 384, 640)\n",
      "\n",
      "0: 384x640 1 person, 1 backpack, 40.9ms\n",
      "Speed: 2.4ms preprocess, 40.9ms inference, 0.6ms postprocess per image at shape (1, 3, 384, 640)\n",
      "\n",
      "0: 384x640 1 person, 1 backpack, 44.5ms\n",
      "Speed: 2.1ms preprocess, 44.5ms inference, 0.6ms postprocess per image at shape (1, 3, 384, 640)\n"
     ]
    },
    {
     "name": "stderr",
     "output_type": "stream",
     "text": [
      "127.0.0.1 - - [10/Apr/2025 20:20:37] \"GET /get_tracking_action HTTP/1.1\" 200 -\n"
     ]
    },
    {
     "name": "stdout",
     "output_type": "stream",
     "text": [
      "\n",
      "0: 384x640 1 person, 1 backpack, 48.5ms\n",
      "Speed: 17.4ms preprocess, 48.5ms inference, 0.7ms postprocess per image at shape (1, 3, 384, 640)\n",
      "\n",
      "0: 384x640 1 person, 1 backpack, 41.1ms\n",
      "Speed: 2.3ms preprocess, 41.1ms inference, 0.7ms postprocess per image at shape (1, 3, 384, 640)\n"
     ]
    },
    {
     "name": "stderr",
     "output_type": "stream",
     "text": [
      "127.0.0.1 - - [10/Apr/2025 20:20:38] \"GET /get_tracking_action HTTP/1.1\" 200 -\n"
     ]
    },
    {
     "name": "stdout",
     "output_type": "stream",
     "text": [
      "\n",
      "0: 384x640 1 person, 1 backpack, 54.7ms\n",
      "Speed: 2.0ms preprocess, 54.7ms inference, 0.7ms postprocess per image at shape (1, 3, 384, 640)\n",
      "\n",
      "0: 384x640 1 person, 1 backpack, 47.9ms\n",
      "Speed: 1.8ms preprocess, 47.9ms inference, 0.7ms postprocess per image at shape (1, 3, 384, 640)\n",
      "\n",
      "0: 384x640 1 person, 1 backpack, 46.7ms\n",
      "Speed: 1.9ms preprocess, 46.7ms inference, 0.7ms postprocess per image at shape (1, 3, 384, 640)\n"
     ]
    },
    {
     "name": "stderr",
     "output_type": "stream",
     "text": [
      "127.0.0.1 - - [10/Apr/2025 20:20:39] \"GET /get_tracking_action HTTP/1.1\" 200 -\n"
     ]
    },
    {
     "name": "stdout",
     "output_type": "stream",
     "text": [
      "\n",
      "0: 384x640 1 person, 1 backpack, 52.5ms\n",
      "Speed: 2.2ms preprocess, 52.5ms inference, 0.8ms postprocess per image at shape (1, 3, 384, 640)\n",
      "\n",
      "0: 384x640 1 person, 1 backpack, 45.4ms\n",
      "Speed: 10.2ms preprocess, 45.4ms inference, 0.7ms postprocess per image at shape (1, 3, 384, 640)\n"
     ]
    },
    {
     "name": "stderr",
     "output_type": "stream",
     "text": [
      "127.0.0.1 - - [10/Apr/2025 20:20:40] \"GET /get_tracking_action HTTP/1.1\" 200 -\n"
     ]
    },
    {
     "name": "stdout",
     "output_type": "stream",
     "text": [
      "\n",
      "0: 384x640 1 person, 1 backpack, 69.4ms\n",
      "Speed: 2.6ms preprocess, 69.4ms inference, 1.0ms postprocess per image at shape (1, 3, 384, 640)\n",
      "\n",
      "0: 384x640 1 person, 1 backpack, 40.6ms\n",
      "Speed: 1.5ms preprocess, 40.6ms inference, 0.5ms postprocess per image at shape (1, 3, 384, 640)\n",
      "\n",
      "0: 384x640 1 person, 1 backpack, 1 chair, 44.8ms\n",
      "Speed: 2.2ms preprocess, 44.8ms inference, 1.5ms postprocess per image at shape (1, 3, 384, 640)\n"
     ]
    },
    {
     "name": "stderr",
     "output_type": "stream",
     "text": [
      "127.0.0.1 - - [10/Apr/2025 20:20:41] \"GET /get_tracking_action HTTP/1.1\" 200 -\n"
     ]
    },
    {
     "name": "stdout",
     "output_type": "stream",
     "text": [
      "\n",
      "0: 384x640 1 person, 1 backpack, 1 chair, 1 bed, 43.0ms\n",
      "Speed: 1.5ms preprocess, 43.0ms inference, 0.6ms postprocess per image at shape (1, 3, 384, 640)\n",
      "\n",
      "0: 384x640 1 person, 1 backpack, 1 chair, 1 bed, 64.8ms\n",
      "Speed: 1.5ms preprocess, 64.8ms inference, 6.2ms postprocess per image at shape (1, 3, 384, 640)\n"
     ]
    },
    {
     "name": "stderr",
     "output_type": "stream",
     "text": [
      "127.0.0.1 - - [10/Apr/2025 20:20:42] \"GET /get_tracking_action HTTP/1.1\" 200 -\n"
     ]
    },
    {
     "name": "stdout",
     "output_type": "stream",
     "text": [
      "\n",
      "0: 384x640 1 person, 1 backpack, 1 chair, 1 bed, 56.5ms\n",
      "Speed: 1.5ms preprocess, 56.5ms inference, 0.8ms postprocess per image at shape (1, 3, 384, 640)\n",
      "\n",
      "0: 384x640 1 person, 1 backpack, 1 chair, 1 bed, 67.9ms\n",
      "Speed: 2.9ms preprocess, 67.9ms inference, 0.7ms postprocess per image at shape (1, 3, 384, 640)\n"
     ]
    },
    {
     "name": "stderr",
     "output_type": "stream",
     "text": [
      "127.0.0.1 - - [10/Apr/2025 20:20:43] \"GET /get_tracking_action HTTP/1.1\" 200 -\n"
     ]
    },
    {
     "name": "stdout",
     "output_type": "stream",
     "text": [
      "\n",
      "0: 384x640 1 person, 1 backpack, 1 chair, 1 bed, 70.0ms\n",
      "Speed: 1.6ms preprocess, 70.0ms inference, 0.7ms postprocess per image at shape (1, 3, 384, 640)\n",
      "\n",
      "0: 384x640 1 person, 1 backpack, 1 chair, 45.6ms\n",
      "Speed: 2.0ms preprocess, 45.6ms inference, 0.6ms postprocess per image at shape (1, 3, 384, 640)\n"
     ]
    },
    {
     "name": "stderr",
     "output_type": "stream",
     "text": [
      "127.0.0.1 - - [10/Apr/2025 20:20:44] \"GET /get_tracking_action HTTP/1.1\" 200 -\n"
     ]
    },
    {
     "name": "stdout",
     "output_type": "stream",
     "text": [
      "\n",
      "0: 384x640 1 person, 1 backpack, 1 chair, 45.5ms\n",
      "Speed: 1.7ms preprocess, 45.5ms inference, 2.4ms postprocess per image at shape (1, 3, 384, 640)\n",
      "\n",
      "0: 384x640 1 person, 1 backpack, 1 chair, 43.2ms\n",
      "Speed: 1.7ms preprocess, 43.2ms inference, 0.6ms postprocess per image at shape (1, 3, 384, 640)\n",
      "\n",
      "0: 384x640 1 person, 1 backpack, 1 chair, 53.1ms\n",
      "Speed: 2.2ms preprocess, 53.1ms inference, 1.2ms postprocess per image at shape (1, 3, 384, 640)\n"
     ]
    },
    {
     "name": "stderr",
     "output_type": "stream",
     "text": [
      "127.0.0.1 - - [10/Apr/2025 20:20:45] \"GET /get_tracking_action HTTP/1.1\" 200 -\n"
     ]
    },
    {
     "name": "stdout",
     "output_type": "stream",
     "text": [
      "\n",
      "0: 384x640 1 person, 1 backpack, 1 chair, 55.6ms\n",
      "Speed: 1.5ms preprocess, 55.6ms inference, 0.9ms postprocess per image at shape (1, 3, 384, 640)\n",
      "\n",
      "0: 384x640 1 person, 1 backpack, 1 chair, 48.5ms\n",
      "Speed: 1.7ms preprocess, 48.5ms inference, 1.3ms postprocess per image at shape (1, 3, 384, 640)\n"
     ]
    },
    {
     "name": "stderr",
     "output_type": "stream",
     "text": [
      "127.0.0.1 - - [10/Apr/2025 20:20:46] \"GET /get_tracking_action HTTP/1.1\" 200 -\n"
     ]
    },
    {
     "name": "stdout",
     "output_type": "stream",
     "text": [
      "\n",
      "0: 384x640 1 person, 1 backpack, 1 chair, 71.7ms\n",
      "Speed: 2.1ms preprocess, 71.7ms inference, 4.7ms postprocess per image at shape (1, 3, 384, 640)\n",
      "\n",
      "0: 384x640 1 person, 1 backpack, 1 chair, 63.1ms\n",
      "Speed: 5.0ms preprocess, 63.1ms inference, 0.9ms postprocess per image at shape (1, 3, 384, 640)\n"
     ]
    },
    {
     "name": "stderr",
     "output_type": "stream",
     "text": [
      "127.0.0.1 - - [10/Apr/2025 20:20:47] \"GET /get_tracking_action HTTP/1.1\" 200 -\n"
     ]
    },
    {
     "name": "stdout",
     "output_type": "stream",
     "text": [
      "\n",
      "0: 384x640 1 person, 1 backpack, 1 chair, 58.0ms\n",
      "Speed: 1.9ms preprocess, 58.0ms inference, 0.7ms postprocess per image at shape (1, 3, 384, 640)\n",
      "\n",
      "0: 384x640 1 person, 1 chair, 97.1ms\n",
      "Speed: 1.9ms preprocess, 97.1ms inference, 0.6ms postprocess per image at shape (1, 3, 384, 640)\n"
     ]
    },
    {
     "name": "stderr",
     "output_type": "stream",
     "text": [
      "127.0.0.1 - - [10/Apr/2025 20:20:48] \"GET /get_tracking_action HTTP/1.1\" 200 -\n"
     ]
    },
    {
     "name": "stdout",
     "output_type": "stream",
     "text": [
      "\n",
      "0: 384x640 1 person, 1 chair, 48.1ms\n",
      "Speed: 1.6ms preprocess, 48.1ms inference, 0.7ms postprocess per image at shape (1, 3, 384, 640)\n",
      "\n",
      "0: 384x640 1 person, 1 chair, 2 beds, 45.5ms\n",
      "Speed: 2.3ms preprocess, 45.5ms inference, 0.6ms postprocess per image at shape (1, 3, 384, 640)\n",
      "\n"
     ]
    },
    {
     "name": "stderr",
     "output_type": "stream",
     "text": [
      "127.0.0.1 - - [10/Apr/2025 20:20:49] \"GET /get_tracking_action HTTP/1.1\" 200 -\n"
     ]
    },
    {
     "name": "stdout",
     "output_type": "stream",
     "text": [
      "0: 384x640 1 person, 1 chair, 2 beds, 57.1ms\n",
      "Speed: 1.8ms preprocess, 57.1ms inference, 0.8ms postprocess per image at shape (1, 3, 384, 640)\n",
      "\n",
      "0: 384x640 1 person, 1 tie, 1 chair, 2 beds, 52.7ms\n",
      "Speed: 1.7ms preprocess, 52.7ms inference, 0.6ms postprocess per image at shape (1, 3, 384, 640)\n",
      "\n",
      "0: 384x640 1 person, 1 tie, 1 chair, 2 beds, 1 laptop, 47.2ms\n",
      "Speed: 2.1ms preprocess, 47.2ms inference, 0.5ms postprocess per image at shape (1, 3, 384, 640)\n"
     ]
    },
    {
     "name": "stderr",
     "output_type": "stream",
     "text": [
      "127.0.0.1 - - [10/Apr/2025 20:20:50] \"GET /get_tracking_action HTTP/1.1\" 200 -\n"
     ]
    },
    {
     "name": "stdout",
     "output_type": "stream",
     "text": [
      "Error: Object with ID 1 not found.\n",
      "Error: Object with ID 1 not found.\n",
      "\n",
      "0: 384x640 1 person, 1 tie, 1 chair, 2 beds, 1 laptop, 45.9ms\n",
      "Speed: 1.7ms preprocess, 45.9ms inference, 1.5ms postprocess per image at shape (1, 3, 384, 640)\n",
      "Error: Object with ID 1 not found.\n",
      "Error: Object with ID 1 not found.\n",
      "\n"
     ]
    },
    {
     "name": "stderr",
     "output_type": "stream",
     "text": [
      "127.0.0.1 - - [10/Apr/2025 20:20:51] \"GET /get_tracking_action HTTP/1.1\" 200 -\n"
     ]
    },
    {
     "name": "stdout",
     "output_type": "stream",
     "text": [
      "0: 384x640 1 person, 1 tie, 1 chair, 2 beds, 1 laptop, 49.4ms\n",
      "Speed: 2.7ms preprocess, 49.4ms inference, 0.7ms postprocess per image at shape (1, 3, 384, 640)\n",
      "Error: Object with ID 1 not found.\n",
      "Error: Object with ID 1 not found.\n",
      "\n",
      "0: 384x640 1 person, 1 tie, 1 chair, 2 beds, 1 laptop, 53.4ms\n",
      "Speed: 2.8ms preprocess, 53.4ms inference, 1.2ms postprocess per image at shape (1, 3, 384, 640)\n"
     ]
    },
    {
     "name": "stderr",
     "output_type": "stream",
     "text": [
      "127.0.0.1 - - [10/Apr/2025 20:20:52] \"GET /get_tracking_action HTTP/1.1\" 200 -\n"
     ]
    },
    {
     "name": "stdout",
     "output_type": "stream",
     "text": [
      "Error: Object with ID 1 not found.\n",
      "Error: Object with ID 1 not found.\n",
      "\n",
      "0: 384x640 1 person, 1 tie, 1 chair, 2 beds, 57.7ms\n",
      "Speed: 1.5ms preprocess, 57.7ms inference, 0.6ms postprocess per image at shape (1, 3, 384, 640)\n",
      "Error: Object with ID 1 not found.\n",
      "Error: Object with ID 1 not found.\n",
      "\n",
      "0: 384x640 1 person, 1 chair, 2 beds, 46.5ms\n",
      "Speed: 1.6ms preprocess, 46.5ms inference, 0.8ms postprocess per image at shape (1, 3, 384, 640)\n"
     ]
    },
    {
     "name": "stderr",
     "output_type": "stream",
     "text": [
      "127.0.0.1 - - [10/Apr/2025 20:20:53] \"GET /get_tracking_action HTTP/1.1\" 200 -\n"
     ]
    },
    {
     "name": "stdout",
     "output_type": "stream",
     "text": [
      "Error: Object with ID 1 not found.\n",
      "Error: Object with ID 1 not found.\n",
      "\n",
      "0: 384x640 1 person, 1 chair, 2 beds, 43.2ms\n",
      "Speed: 1.9ms preprocess, 43.2ms inference, 0.6ms postprocess per image at shape (1, 3, 384, 640)\n",
      "Error: Object with ID 1 not found.\n",
      "Error: Object with ID 1 not found.\n",
      "\n",
      "0: 384x640 1 person, 1 chair, 2 beds, 1 laptop, 46.5ms\n",
      "Speed: 1.7ms preprocess, 46.5ms inference, 0.7ms postprocess per image at shape (1, 3, 384, 640)\n"
     ]
    },
    {
     "name": "stderr",
     "output_type": "stream",
     "text": [
      "127.0.0.1 - - [10/Apr/2025 20:20:54] \"GET /get_tracking_action HTTP/1.1\" 200 -\n"
     ]
    },
    {
     "name": "stdout",
     "output_type": "stream",
     "text": [
      "Error: Object with ID 1 not found.\n",
      "Error: Object with ID 1 not found.\n",
      "\n",
      "0: 384x640 1 person, 1 chair, 2 beds, 55.7ms\n",
      "Speed: 2.9ms preprocess, 55.7ms inference, 0.6ms postprocess per image at shape (1, 3, 384, 640)\n",
      "Error: Object with ID 1 not found.\n",
      "Error: Object with ID 1 not found.\n",
      "\n",
      "0: 384x640 1 person, 1 suitcase, 1 chair, 1 bed, 76.8ms\n",
      "Speed: 2.3ms preprocess, 76.8ms inference, 0.6ms postprocess per image at shape (1, 3, 384, 640)\n"
     ]
    },
    {
     "name": "stderr",
     "output_type": "stream",
     "text": [
      "127.0.0.1 - - [10/Apr/2025 20:20:55] \"GET /get_tracking_action HTTP/1.1\" 200 -\n"
     ]
    },
    {
     "name": "stdout",
     "output_type": "stream",
     "text": [
      "Error: Object with ID 1 not found.\n",
      "Error: Object with ID 1 not found.\n",
      "\n",
      "0: 384x640 1 person, 1 backpack, 1 chair, 42.6ms\n",
      "Speed: 1.7ms preprocess, 42.6ms inference, 0.6ms postprocess per image at shape (1, 3, 384, 640)\n",
      "Error: Object with ID 1 not found.\n",
      "Error: Object with ID 1 not found.\n",
      "\n",
      "0: 384x640 1 person, 1 backpack, 1 chair, 76.3ms\n",
      "Speed: 1.9ms preprocess, 76.3ms inference, 1.1ms postprocess per image at shape (1, 3, 384, 640)\n"
     ]
    },
    {
     "name": "stderr",
     "output_type": "stream",
     "text": [
      "127.0.0.1 - - [10/Apr/2025 20:20:56] \"GET /get_tracking_action HTTP/1.1\" 200 -\n"
     ]
    },
    {
     "name": "stdout",
     "output_type": "stream",
     "text": [
      "Error: Object with ID 1 not found.\n",
      "Error: Object with ID 1 not found.\n",
      "\n",
      "0: 384x640 1 person, 1 backpack, 52.1ms\n",
      "Speed: 2.1ms preprocess, 52.1ms inference, 0.6ms postprocess per image at shape (1, 3, 384, 640)\n",
      "Error: Object with ID 1 not found.\n",
      "Error: Object with ID 1 not found.\n",
      "\n",
      "0: 384x640 1 person, 1 backpack, 52.3ms\n",
      "Speed: 9.0ms preprocess, 52.3ms inference, 0.8ms postprocess per image at shape (1, 3, 384, 640)\n"
     ]
    },
    {
     "name": "stderr",
     "output_type": "stream",
     "text": [
      "127.0.0.1 - - [10/Apr/2025 20:20:57] \"GET /get_tracking_action HTTP/1.1\" 200 -\n"
     ]
    },
    {
     "name": "stdout",
     "output_type": "stream",
     "text": [
      "Error: Object with ID 1 not found.\n",
      "Error: Object with ID 1 not found.\n",
      "\n",
      "0: 384x640 1 person, 1 backpack, 73.7ms\n",
      "Speed: 1.8ms preprocess, 73.7ms inference, 0.6ms postprocess per image at shape (1, 3, 384, 640)\n",
      "Error: Object with ID 1 not found.\n",
      "Error: Object with ID 1 not found.\n",
      "\n",
      "0: 384x640 1 person, 1 backpack, 43.2ms\n",
      "Speed: 1.7ms preprocess, 43.2ms inference, 0.7ms postprocess per image at shape (1, 3, 384, 640)\n",
      "Error: Object with ID 1 not found.\n",
      "Error: Object with ID 1 not found.\n",
      "\n",
      "0: 384x640 1 person, 1 backpack, 80.6ms\n",
      "Speed: 3.3ms preprocess, 80.6ms inference, 0.5ms postprocess per image at shape (1, 3, 384, 640)\n"
     ]
    },
    {
     "name": "stderr",
     "output_type": "stream",
     "text": [
      "127.0.0.1 - - [10/Apr/2025 20:20:58] \"GET /get_tracking_action HTTP/1.1\" 200 -\n"
     ]
    },
    {
     "name": "stdout",
     "output_type": "stream",
     "text": [
      "Error: Object with ID 1 not found.\n",
      "Error: Object with ID 1 not found.\n",
      "\n",
      "0: 384x640 1 person, 1 backpack, 58.1ms\n",
      "Speed: 1.8ms preprocess, 58.1ms inference, 0.7ms postprocess per image at shape (1, 3, 384, 640)\n",
      "Error: Object with ID 1 not found.\n",
      "Error: Object with ID 1 not found.\n",
      "\n",
      "0: 384x640 1 person, 1 backpack, 44.9ms\n",
      "Speed: 4.1ms preprocess, 44.9ms inference, 1.3ms postprocess per image at shape (1, 3, 384, 640)\n",
      "Error: Object with ID 1 not found.\n",
      "Error: Object with ID 1 not found.\n",
      "\n"
     ]
    },
    {
     "name": "stderr",
     "output_type": "stream",
     "text": [
      "127.0.0.1 - - [10/Apr/2025 20:20:59] \"GET /get_tracking_action HTTP/1.1\" 200 -\n"
     ]
    },
    {
     "name": "stdout",
     "output_type": "stream",
     "text": [
      "0: 384x640 1 person, 1 backpack, 52.3ms\n",
      "Speed: 1.7ms preprocess, 52.3ms inference, 0.9ms postprocess per image at shape (1, 3, 384, 640)\n",
      "Error: Object with ID 1 not found.\n",
      "Error: Object with ID 1 not found.\n",
      "\n",
      "0: 384x640 1 person, 1 backpack, 44.2ms\n",
      "Speed: 1.7ms preprocess, 44.2ms inference, 0.7ms postprocess per image at shape (1, 3, 384, 640)\n",
      "Error: Object with ID 1 not found.\n",
      "Error: Object with ID 1 not found.\n",
      "\n",
      "0: 384x640 1 person, 1 backpack, 113.5ms\n",
      "Speed: 3.8ms preprocess, 113.5ms inference, 0.7ms postprocess per image at shape (1, 3, 384, 640)\n"
     ]
    },
    {
     "name": "stderr",
     "output_type": "stream",
     "text": [
      "127.0.0.1 - - [10/Apr/2025 20:21:00] \"GET /get_tracking_action HTTP/1.1\" 200 -\n"
     ]
    },
    {
     "name": "stdout",
     "output_type": "stream",
     "text": [
      "Error: Object with ID 1 not found.\n",
      "Error: Object with ID 1 not found.\n",
      "\n",
      "0: 384x640 1 person, 1 backpack, 48.2ms\n",
      "Speed: 1.6ms preprocess, 48.2ms inference, 0.7ms postprocess per image at shape (1, 3, 384, 640)\n",
      "Error: Object with ID 1 not found.\n",
      "Error: Object with ID 1 not found.\n",
      "\n",
      "0: 384x640 1 person, 1 backpack, 79.1ms\n",
      "Speed: 4.0ms preprocess, 79.1ms inference, 0.6ms postprocess per image at shape (1, 3, 384, 640)\n"
     ]
    },
    {
     "name": "stderr",
     "output_type": "stream",
     "text": [
      "127.0.0.1 - - [10/Apr/2025 20:21:01] \"GET /get_tracking_action HTTP/1.1\" 200 -\n"
     ]
    },
    {
     "name": "stdout",
     "output_type": "stream",
     "text": [
      "Error: Object with ID 1 not found.\n",
      "Error: Object with ID 1 not found.\n",
      "\n",
      "0: 384x640 1 person, 1 backpack, 62.1ms\n",
      "Speed: 2.2ms preprocess, 62.1ms inference, 0.6ms postprocess per image at shape (1, 3, 384, 640)\n",
      "Error: Object with ID 1 not found.\n",
      "Error: Object with ID 1 not found.\n",
      "\n",
      "0: 384x640 1 person, 1 backpack, 50.5ms\n",
      "Speed: 3.1ms preprocess, 50.5ms inference, 0.7ms postprocess per image at shape (1, 3, 384, 640)\n",
      "Error: Object with ID 1 not found.\n",
      "Error: Object with ID 1 not found.\n",
      "\n",
      "0: 384x640 1 person, 1 backpack, 1 tie, 48.8ms\n",
      "Speed: 1.9ms preprocess, 48.8ms inference, 1.7ms postprocess per image at shape (1, 3, 384, 640)\n"
     ]
    },
    {
     "name": "stderr",
     "output_type": "stream",
     "text": [
      "127.0.0.1 - - [10/Apr/2025 20:21:02] \"GET /get_tracking_action HTTP/1.1\" 200 -\n"
     ]
    },
    {
     "name": "stdout",
     "output_type": "stream",
     "text": [
      "Error: Object with ID 1 not found.\n",
      "Error: Object with ID 1 not found.\n",
      "\n",
      "0: 384x640 1 person, 1 backpack, 1 tie, 64.3ms\n",
      "Speed: 5.7ms preprocess, 64.3ms inference, 0.8ms postprocess per image at shape (1, 3, 384, 640)\n",
      "Error: Object with ID 1 not found.\n",
      "Error: Object with ID 1 not found.\n",
      "\n",
      "0: 384x640 1 person, 1 backpack, 1 tie, 44.9ms\n",
      "Speed: 2.3ms preprocess, 44.9ms inference, 0.7ms postprocess per image at shape (1, 3, 384, 640)\n"
     ]
    },
    {
     "name": "stderr",
     "output_type": "stream",
     "text": [
      "127.0.0.1 - - [10/Apr/2025 20:21:03] \"GET /get_tracking_action HTTP/1.1\" 200 -\n"
     ]
    },
    {
     "name": "stdout",
     "output_type": "stream",
     "text": [
      "Error: Object with ID 1 not found.\n",
      "Error: Object with ID 1 not found.\n",
      "\n",
      "0: 384x640 1 person, 1 backpack, 1 tie, 44.2ms\n",
      "Speed: 1.7ms preprocess, 44.2ms inference, 0.9ms postprocess per image at shape (1, 3, 384, 640)\n",
      "Error: Object with ID 1 not found.\n",
      "Error: Object with ID 1 not found.\n",
      "\n",
      "0: 384x640 1 person, 1 backpack, 1 tie, 52.5ms\n",
      "Speed: 1.7ms preprocess, 52.5ms inference, 0.6ms postprocess per image at shape (1, 3, 384, 640)\n"
     ]
    },
    {
     "name": "stderr",
     "output_type": "stream",
     "text": [
      "127.0.0.1 - - [10/Apr/2025 20:21:04] \"GET /get_tracking_action HTTP/1.1\" 200 -\n"
     ]
    },
    {
     "name": "stdout",
     "output_type": "stream",
     "text": [
      "Error: Object with ID 1 not found.\n",
      "Error: Object with ID 1 not found.\n",
      "\n",
      "0: 384x640 1 person, 1 backpack, 1 tie, 47.1ms\n",
      "Speed: 1.7ms preprocess, 47.1ms inference, 0.9ms postprocess per image at shape (1, 3, 384, 640)\n",
      "Error: Object with ID 1 not found.\n",
      "Error: Object with ID 1 not found.\n",
      "\n",
      "0: 384x640 1 person, 1 backpack, 1 tie, 55.2ms\n",
      "Speed: 2.5ms preprocess, 55.2ms inference, 1.3ms postprocess per image at shape (1, 3, 384, 640)\n"
     ]
    },
    {
     "name": "stderr",
     "output_type": "stream",
     "text": [
      "127.0.0.1 - - [10/Apr/2025 20:21:05] \"GET /get_tracking_action HTTP/1.1\" 200 -\n"
     ]
    },
    {
     "name": "stdout",
     "output_type": "stream",
     "text": [
      "Error: Object with ID 1 not found.\n",
      "Error: Object with ID 1 not found.\n",
      "\n",
      "0: 384x640 1 person, 1 backpack, 1 tie, 47.2ms\n",
      "Speed: 3.3ms preprocess, 47.2ms inference, 0.6ms postprocess per image at shape (1, 3, 384, 640)\n",
      "Error: Object with ID 1 not found.\n",
      "Error: Object with ID 1 not found.\n",
      "\n",
      "0: 384x640 1 person, 1 backpack, 1 tie, 50.8ms\n",
      "Speed: 2.0ms preprocess, 50.8ms inference, 0.6ms postprocess per image at shape (1, 3, 384, 640)\n",
      "Error: Object with ID 1 not found.\n",
      "Error: Object with ID 1 not found.\n",
      "\n",
      "0: 384x640 1 person, 1 backpack, 1 tie, 69.0ms\n",
      "Speed: 4.4ms preprocess, 69.0ms inference, 0.7ms postprocess per image at shape (1, 3, 384, 640)\n"
     ]
    },
    {
     "name": "stderr",
     "output_type": "stream",
     "text": [
      "127.0.0.1 - - [10/Apr/2025 20:21:06] \"GET /get_tracking_action HTTP/1.1\" 200 -\n"
     ]
    },
    {
     "name": "stdout",
     "output_type": "stream",
     "text": [
      "Error: Object with ID 1 not found.\n",
      "Error: Object with ID 1 not found.\n",
      "\n",
      "0: 384x640 1 person, 1 backpack, 1 tie, 59.5ms\n",
      "Speed: 2.4ms preprocess, 59.5ms inference, 0.6ms postprocess per image at shape (1, 3, 384, 640)\n",
      "Error: Object with ID 1 not found.\n",
      "Error: Object with ID 1 not found.\n",
      "\n",
      "0: 384x640 1 person, 1 backpack, 1 tie, 49.2ms\n",
      "Speed: 2.3ms preprocess, 49.2ms inference, 0.6ms postprocess per image at shape (1, 3, 384, 640)\n"
     ]
    },
    {
     "name": "stderr",
     "output_type": "stream",
     "text": [
      "127.0.0.1 - - [10/Apr/2025 20:21:07] \"GET /get_tracking_action HTTP/1.1\" 200 -\n"
     ]
    },
    {
     "name": "stdout",
     "output_type": "stream",
     "text": [
      "Error: Object with ID 1 not found.\n",
      "Error: Object with ID 1 not found.\n",
      "\n",
      "0: 384x640 1 person, 1 backpack, 1 tie, 53.7ms\n",
      "Speed: 1.7ms preprocess, 53.7ms inference, 0.6ms postprocess per image at shape (1, 3, 384, 640)\n",
      "Error: Object with ID 1 not found.\n",
      "Error: Object with ID 1 not found.\n",
      "\n",
      "0: 384x640 1 person, 1 backpack, 1 tie, 41.3ms\n",
      "Speed: 1.6ms preprocess, 41.3ms inference, 0.7ms postprocess per image at shape (1, 3, 384, 640)\n",
      "Error: Object with ID 1 not found.\n",
      "Error: Object with ID 1 not found.\n",
      "\n"
     ]
    },
    {
     "name": "stderr",
     "output_type": "stream",
     "text": [
      "127.0.0.1 - - [10/Apr/2025 20:21:08] \"GET /get_tracking_action HTTP/1.1\" 200 -\n"
     ]
    },
    {
     "name": "stdout",
     "output_type": "stream",
     "text": [
      "0: 384x640 1 person, 1 backpack, 1 tie, 53.4ms\n",
      "Speed: 1.9ms preprocess, 53.4ms inference, 1.0ms postprocess per image at shape (1, 3, 384, 640)\n",
      "Error: Object with ID 1 not found.\n",
      "Error: Object with ID 1 not found.\n",
      "\n",
      "0: 384x640 1 person, 48.6ms\n",
      "Speed: 2.7ms preprocess, 48.6ms inference, 0.8ms postprocess per image at shape (1, 3, 384, 640)\n",
      "Error: Object with ID 1 not found.\n",
      "Error: Object with ID 1 not found.\n",
      "\n",
      "0: 384x640 1 person, 63.2ms\n",
      "Speed: 2.4ms preprocess, 63.2ms inference, 2.8ms postprocess per image at shape (1, 3, 384, 640)\n",
      "Error: Object with ID 1 not found.\n",
      "Error: Object with ID 1 not found.\n",
      "\n",
      "0: 384x640 1 person, 43.8ms\n",
      "Speed: 2.1ms preprocess, 43.8ms inference, 0.7ms postprocess per image at shape (1, 3, 384, 640)\n"
     ]
    },
    {
     "name": "stderr",
     "output_type": "stream",
     "text": [
      "127.0.0.1 - - [10/Apr/2025 20:21:09] \"GET /get_tracking_action HTTP/1.1\" 200 -\n"
     ]
    },
    {
     "name": "stdout",
     "output_type": "stream",
     "text": [
      "Error: Object with ID 1 not found.\n",
      "Error: Object with ID 1 not found.\n",
      "\n",
      "0: 384x640 1 person, 60.4ms\n",
      "Speed: 2.4ms preprocess, 60.4ms inference, 0.7ms postprocess per image at shape (1, 3, 384, 640)\n",
      "Error: Object with ID 1 not found.\n",
      "Error: Object with ID 1 not found.\n",
      "\n",
      "0: 384x640 1 person, 54.7ms\n",
      "Speed: 2.4ms preprocess, 54.7ms inference, 1.5ms postprocess per image at shape (1, 3, 384, 640)\n",
      "Error: Object with ID 1 not found.\n",
      "Error: Object with ID 1 not found.\n",
      "\n",
      "0: 384x640 1 person, 1 handbag, 68.7ms\n",
      "Speed: 1.9ms preprocess, 68.7ms inference, 0.6ms postprocess per image at shape (1, 3, 384, 640)\n"
     ]
    },
    {
     "name": "stderr",
     "output_type": "stream",
     "text": [
      "127.0.0.1 - - [10/Apr/2025 20:21:10] \"GET /get_tracking_action HTTP/1.1\" 200 -\n"
     ]
    },
    {
     "name": "stdout",
     "output_type": "stream",
     "text": [
      "Error: Object with ID 1 not found.\n",
      "Error: Object with ID 1 not found.\n",
      "\n",
      "0: 384x640 1 person, 1 handbag, 381.1ms\n",
      "Speed: 2.7ms preprocess, 381.1ms inference, 4.2ms postprocess per image at shape (1, 3, 384, 640)\n"
     ]
    },
    {
     "name": "stderr",
     "output_type": "stream",
     "text": [
      "127.0.0.1 - - [10/Apr/2025 20:21:11] \"GET /get_tracking_action HTTP/1.1\" 200 -\n"
     ]
    },
    {
     "name": "stdout",
     "output_type": "stream",
     "text": [
      "Error: Object with ID 1 not found.\n",
      "Error: Object with ID 1 not found.\n",
      "\n",
      "0: 384x640 1 person, 1 backpack, 55.3ms\n",
      "Speed: 2.3ms preprocess, 55.3ms inference, 0.8ms postprocess per image at shape (1, 3, 384, 640)\n",
      "Error: Object with ID 1 not found.\n",
      "Error: Object with ID 1 not found.\n",
      "\n",
      "0: 384x640 1 person, 1 handbag, 50.9ms\n",
      "Speed: 2.2ms preprocess, 50.9ms inference, 1.1ms postprocess per image at shape (1, 3, 384, 640)\n",
      "Error: Object with ID 1 not found.\n",
      "Error: Object with ID 1 not found.\n",
      "\n",
      "0: 384x640 1 person, 1 backpack, 51.6ms\n",
      "Speed: 1.6ms preprocess, 51.6ms inference, 0.5ms postprocess per image at shape (1, 3, 384, 640)\n"
     ]
    },
    {
     "name": "stderr",
     "output_type": "stream",
     "text": [
      "127.0.0.1 - - [10/Apr/2025 20:21:12] \"GET /get_tracking_action HTTP/1.1\" 200 -\n"
     ]
    },
    {
     "name": "stdout",
     "output_type": "stream",
     "text": [
      "Error: Object with ID 1 not found.\n",
      "Error: Object with ID 1 not found.\n",
      "\n",
      "0: 384x640 1 person, 1 handbag, 44.2ms\n",
      "Speed: 1.7ms preprocess, 44.2ms inference, 0.9ms postprocess per image at shape (1, 3, 384, 640)\n",
      "Error: Object with ID 1 not found.\n",
      "Error: Object with ID 1 not found.\n",
      "\n",
      "0: 384x640 1 person, 1 handbag, 45.6ms\n",
      "Speed: 1.7ms preprocess, 45.6ms inference, 0.6ms postprocess per image at shape (1, 3, 384, 640)\n"
     ]
    },
    {
     "name": "stderr",
     "output_type": "stream",
     "text": [
      "127.0.0.1 - - [10/Apr/2025 20:21:13] \"GET /get_tracking_action HTTP/1.1\" 200 -\n"
     ]
    },
    {
     "name": "stdout",
     "output_type": "stream",
     "text": [
      "Error: Object with ID 1 not found.\n",
      "Error: Object with ID 1 not found.\n",
      "\n",
      "0: 384x640 1 person, 1 backpack, 49.0ms\n",
      "Speed: 2.8ms preprocess, 49.0ms inference, 0.8ms postprocess per image at shape (1, 3, 384, 640)\n",
      "Error: Object with ID 1 not found.\n",
      "Error: Object with ID 1 not found.\n",
      "\n",
      "0: 384x640 1 person, 1 backpack, 51.5ms\n",
      "Speed: 1.6ms preprocess, 51.5ms inference, 0.6ms postprocess per image at shape (1, 3, 384, 640)\n",
      "Error: Object with ID 1 not found.\n",
      "Error: Object with ID 1 not found.\n",
      "\n",
      "0: 384x640 1 person, 1 backpack, 69.4ms\n",
      "Speed: 1.8ms preprocess, 69.4ms inference, 0.8ms postprocess per image at shape (1, 3, 384, 640)\n"
     ]
    },
    {
     "name": "stderr",
     "output_type": "stream",
     "text": [
      "127.0.0.1 - - [10/Apr/2025 20:21:14] \"GET /get_tracking_action HTTP/1.1\" 200 -\n"
     ]
    },
    {
     "name": "stdout",
     "output_type": "stream",
     "text": [
      "Error: Object with ID 1 not found.\n",
      "Error: Object with ID 1 not found.\n",
      "\n",
      "0: 384x640 1 person, 1 handbag, 52.2ms\n",
      "Speed: 2.8ms preprocess, 52.2ms inference, 0.6ms postprocess per image at shape (1, 3, 384, 640)\n",
      "Error: Object with ID 1 not found.\n",
      "Error: Object with ID 1 not found.\n",
      "\n",
      "0: 384x640 1 person, 1 backpack, 48.9ms\n",
      "Speed: 1.9ms preprocess, 48.9ms inference, 1.3ms postprocess per image at shape (1, 3, 384, 640)\n"
     ]
    },
    {
     "name": "stderr",
     "output_type": "stream",
     "text": [
      "127.0.0.1 - - [10/Apr/2025 20:21:15] \"GET /get_tracking_action HTTP/1.1\" 200 -\n"
     ]
    },
    {
     "name": "stdout",
     "output_type": "stream",
     "text": [
      "Error: Object with ID 1 not found.\n",
      "Error: Object with ID 1 not found.\n",
      "\n",
      "0: 384x640 1 person, 1 handbag, 73.6ms\n",
      "Speed: 6.1ms preprocess, 73.6ms inference, 1.5ms postprocess per image at shape (1, 3, 384, 640)\n"
     ]
    },
    {
     "name": "stderr",
     "output_type": "stream",
     "text": [
      "127.0.0.1 - - [10/Apr/2025 20:21:15] \"POST /select_object HTTP/1.1\" 200 -\n"
     ]
    },
    {
     "name": "stdout",
     "output_type": "stream",
     "text": [
      "\n",
      "0: 384x640 1 person, 1 backpack, 50.2ms\n",
      "Speed: 1.8ms preprocess, 50.2ms inference, 0.6ms postprocess per image at shape (1, 3, 384, 640)\n",
      "\n",
      "0: 384x640 1 person, 1 handbag, 46.3ms\n",
      "Speed: 1.5ms preprocess, 46.3ms inference, 0.9ms postprocess per image at shape (1, 3, 384, 640)\n",
      "\n",
      "0: 384x640 1 person, 1 handbag, 46.2ms\n",
      "Speed: 7.4ms preprocess, 46.2ms inference, 0.6ms postprocess per image at shape (1, 3, 384, 640)\n",
      "\n",
      "0: 384x640 1 person, 1 handbag, 70.8ms\n",
      "Speed: 1.9ms preprocess, 70.8ms inference, 0.8ms postprocess per image at shape (1, 3, 384, 640)\n"
     ]
    },
    {
     "name": "stderr",
     "output_type": "stream",
     "text": [
      "127.0.0.1 - - [10/Apr/2025 20:21:17] \"GET /get_tracking_action HTTP/1.1\" 200 -\n"
     ]
    },
    {
     "name": "stdout",
     "output_type": "stream",
     "text": [
      "\n",
      "0: 384x640 1 person, 1 handbag, 1 tie, 51.9ms\n",
      "Speed: 2.0ms preprocess, 51.9ms inference, 1.1ms postprocess per image at shape (1, 3, 384, 640)\n"
     ]
    },
    {
     "name": "stderr",
     "output_type": "stream",
     "text": [
      "127.0.0.1 - - [10/Apr/2025 20:21:18] \"GET /get_tracking_action HTTP/1.1\" 200 -\n"
     ]
    },
    {
     "name": "stdout",
     "output_type": "stream",
     "text": [
      "\n",
      "0: 384x640 1 person, 1 backpack, 1 tie, 46.7ms\n",
      "Speed: 1.8ms preprocess, 46.7ms inference, 4.4ms postprocess per image at shape (1, 3, 384, 640)\n",
      "\n",
      "0: 384x640 1 person, 1 backpack, 1 tie, 48.3ms\n",
      "Speed: 2.3ms preprocess, 48.3ms inference, 0.5ms postprocess per image at shape (1, 3, 384, 640)\n",
      "\n"
     ]
    },
    {
     "name": "stderr",
     "output_type": "stream",
     "text": [
      "127.0.0.1 - - [10/Apr/2025 20:21:19] \"GET /get_tracking_action HTTP/1.1\" 200 -\n"
     ]
    },
    {
     "name": "stdout",
     "output_type": "stream",
     "text": [
      "0: 384x640 1 person, 1 backpack, 110.3ms\n",
      "Speed: 5.3ms preprocess, 110.3ms inference, 0.8ms postprocess per image at shape (1, 3, 384, 640)\n",
      "\n",
      "0: 384x640 1 person, 80.4ms\n",
      "Speed: 6.1ms preprocess, 80.4ms inference, 0.6ms postprocess per image at shape (1, 3, 384, 640)\n",
      "\n",
      "0: 384x640 1 person, 1 backpack, 51.3ms\n",
      "Speed: 2.3ms preprocess, 51.3ms inference, 0.7ms postprocess per image at shape (1, 3, 384, 640)\n"
     ]
    },
    {
     "name": "stderr",
     "output_type": "stream",
     "text": [
      "127.0.0.1 - - [10/Apr/2025 20:21:20] \"GET /get_tracking_action HTTP/1.1\" 200 -\n"
     ]
    },
    {
     "name": "stdout",
     "output_type": "stream",
     "text": [
      "\n",
      "0: 384x640 1 person, 1 backpack, 1 tie, 45.1ms\n",
      "Speed: 1.6ms preprocess, 45.1ms inference, 2.8ms postprocess per image at shape (1, 3, 384, 640)\n",
      "\n",
      "0: 384x640 1 person, 1 backpack, 68.4ms\n",
      "Speed: 2.1ms preprocess, 68.4ms inference, 0.6ms postprocess per image at shape (1, 3, 384, 640)\n",
      "\n",
      "0: 384x640 1 person, 1 backpack, 64.2ms\n",
      "Speed: 3.0ms preprocess, 64.2ms inference, 0.6ms postprocess per image at shape (1, 3, 384, 640)\n"
     ]
    },
    {
     "name": "stderr",
     "output_type": "stream",
     "text": [
      "127.0.0.1 - - [10/Apr/2025 20:21:21] \"GET /get_tracking_action HTTP/1.1\" 200 -\n"
     ]
    },
    {
     "name": "stdout",
     "output_type": "stream",
     "text": [
      "\n",
      "0: 384x640 1 person, 1 backpack, 46.0ms\n",
      "Speed: 2.5ms preprocess, 46.0ms inference, 0.7ms postprocess per image at shape (1, 3, 384, 640)\n",
      "\n",
      "0: 384x640 1 person, 1 backpack, 51.0ms\n",
      "Speed: 1.6ms preprocess, 51.0ms inference, 3.7ms postprocess per image at shape (1, 3, 384, 640)\n",
      "\n"
     ]
    },
    {
     "name": "stderr",
     "output_type": "stream",
     "text": [
      "127.0.0.1 - - [10/Apr/2025 20:21:22] \"GET /get_tracking_action HTTP/1.1\" 200 -\n"
     ]
    },
    {
     "name": "stdout",
     "output_type": "stream",
     "text": [
      "0: 384x640 1 person, 1 backpack, 56.3ms\n",
      "Speed: 1.9ms preprocess, 56.3ms inference, 0.8ms postprocess per image at shape (1, 3, 384, 640)\n",
      "\n",
      "0: 384x640 1 person, 1 backpack, 44.7ms\n",
      "Speed: 2.7ms preprocess, 44.7ms inference, 0.6ms postprocess per image at shape (1, 3, 384, 640)\n",
      "\n",
      "0: 384x640 1 person, 1 backpack, 48.1ms\n",
      "Speed: 2.0ms preprocess, 48.1ms inference, 0.7ms postprocess per image at shape (1, 3, 384, 640)\n"
     ]
    },
    {
     "name": "stderr",
     "output_type": "stream",
     "text": [
      "127.0.0.1 - - [10/Apr/2025 20:21:23] \"GET /get_tracking_action HTTP/1.1\" 200 -\n"
     ]
    },
    {
     "name": "stdout",
     "output_type": "stream",
     "text": [
      "\n",
      "0: 384x640 1 person, 1 backpack, 47.3ms\n",
      "Speed: 3.5ms preprocess, 47.3ms inference, 1.1ms postprocess per image at shape (1, 3, 384, 640)\n",
      "\n",
      "0: 384x640 1 person, 1 backpack, 42.9ms\n",
      "Speed: 2.3ms preprocess, 42.9ms inference, 0.8ms postprocess per image at shape (1, 3, 384, 640)\n",
      "\n",
      "0: 384x640 1 person, 1 backpack, 1 chair, 42.5ms\n",
      "Speed: 2.5ms preprocess, 42.5ms inference, 0.7ms postprocess per image at shape (1, 3, 384, 640)\n"
     ]
    },
    {
     "name": "stderr",
     "output_type": "stream",
     "text": [
      "127.0.0.1 - - [10/Apr/2025 20:21:24] \"GET /get_tracking_action HTTP/1.1\" 200 -\n"
     ]
    },
    {
     "name": "stdout",
     "output_type": "stream",
     "text": [
      "\n",
      "0: 384x640 1 person, 1 backpack, 1 chair, 76.0ms\n",
      "Speed: 4.1ms preprocess, 76.0ms inference, 0.8ms postprocess per image at shape (1, 3, 384, 640)\n",
      "\n",
      "0: 384x640 1 person, 1 backpack, 1 chair, 54.2ms\n",
      "Speed: 2.0ms preprocess, 54.2ms inference, 0.6ms postprocess per image at shape (1, 3, 384, 640)\n"
     ]
    },
    {
     "name": "stderr",
     "output_type": "stream",
     "text": [
      "127.0.0.1 - - [10/Apr/2025 20:21:25] \"GET /get_tracking_action HTTP/1.1\" 200 -\n"
     ]
    },
    {
     "name": "stdout",
     "output_type": "stream",
     "text": [
      "\n",
      "0: 384x640 1 person, 1 backpack, 1 chair, 50.0ms\n",
      "Speed: 1.7ms preprocess, 50.0ms inference, 0.9ms postprocess per image at shape (1, 3, 384, 640)\n",
      "\n",
      "0: 384x640 1 person, 1 backpack, 1 chair, 88.0ms\n",
      "Speed: 2.1ms preprocess, 88.0ms inference, 0.8ms postprocess per image at shape (1, 3, 384, 640)\n"
     ]
    },
    {
     "name": "stderr",
     "output_type": "stream",
     "text": [
      "127.0.0.1 - - [10/Apr/2025 20:21:26] \"GET /get_tracking_action HTTP/1.1\" 200 -\n"
     ]
    },
    {
     "name": "stdout",
     "output_type": "stream",
     "text": [
      "\n",
      "0: 384x640 1 person, 1 backpack, 1 chair, 60.5ms\n",
      "Speed: 3.2ms preprocess, 60.5ms inference, 0.8ms postprocess per image at shape (1, 3, 384, 640)\n",
      "\n",
      "0: 384x640 1 person, 60.6ms\n",
      "Speed: 1.7ms preprocess, 60.6ms inference, 0.6ms postprocess per image at shape (1, 3, 384, 640)\n",
      "\n",
      "0: 384x640 1 person, 68.8ms\n",
      "Speed: 1.7ms preprocess, 68.8ms inference, 1.6ms postprocess per image at shape (1, 3, 384, 640)\n",
      "\n"
     ]
    },
    {
     "name": "stderr",
     "output_type": "stream",
     "text": [
      "127.0.0.1 - - [10/Apr/2025 20:21:27] \"GET /get_tracking_action HTTP/1.1\" 200 -\n"
     ]
    },
    {
     "name": "stdout",
     "output_type": "stream",
     "text": [
      "0: 384x640 1 person, 76.5ms\n",
      "Speed: 2.7ms preprocess, 76.5ms inference, 1.4ms postprocess per image at shape (1, 3, 384, 640)\n",
      "\n",
      "0: 384x640 1 person, 77.2ms\n",
      "Speed: 2.3ms preprocess, 77.2ms inference, 0.6ms postprocess per image at shape (1, 3, 384, 640)\n",
      "\n",
      "0: 384x640 1 person, 1 chair, 96.9ms\n",
      "Speed: 4.0ms preprocess, 96.9ms inference, 4.1ms postprocess per image at shape (1, 3, 384, 640)\n"
     ]
    },
    {
     "name": "stderr",
     "output_type": "stream",
     "text": [
      "127.0.0.1 - - [10/Apr/2025 20:21:28] \"GET /get_tracking_action HTTP/1.1\" 200 -\n"
     ]
    },
    {
     "name": "stdout",
     "output_type": "stream",
     "text": [
      "\n",
      "0: 384x640 1 person, 1 chair, 51.9ms\n",
      "Speed: 4.1ms preprocess, 51.9ms inference, 0.7ms postprocess per image at shape (1, 3, 384, 640)\n",
      "\n",
      "0: 384x640 1 person, 1 backpack, 1 chair, 46.2ms\n",
      "Speed: 1.8ms preprocess, 46.2ms inference, 0.8ms postprocess per image at shape (1, 3, 384, 640)\n",
      "\n",
      "0: 384x640 1 person, 1 backpack, 57.0ms\n",
      "Speed: 2.4ms preprocess, 57.0ms inference, 0.9ms postprocess per image at shape (1, 3, 384, 640)\n"
     ]
    },
    {
     "name": "stderr",
     "output_type": "stream",
     "text": [
      "127.0.0.1 - - [10/Apr/2025 20:21:29] \"GET /get_tracking_action HTTP/1.1\" 200 -\n"
     ]
    },
    {
     "name": "stdout",
     "output_type": "stream",
     "text": [
      "\n",
      "0: 384x640 1 person, 1 backpack, 47.5ms\n",
      "Speed: 3.9ms preprocess, 47.5ms inference, 0.6ms postprocess per image at shape (1, 3, 384, 640)\n",
      "\n",
      "0: 384x640 1 person, 1 backpack, 71.8ms\n",
      "Speed: 1.7ms preprocess, 71.8ms inference, 2.4ms postprocess per image at shape (1, 3, 384, 640)\n"
     ]
    },
    {
     "name": "stderr",
     "output_type": "stream",
     "text": [
      "127.0.0.1 - - [10/Apr/2025 20:21:30] \"GET /get_tracking_action HTTP/1.1\" 200 -\n"
     ]
    },
    {
     "name": "stdout",
     "output_type": "stream",
     "text": [
      "\n",
      "0: 384x640 1 person, 1 backpack, 58.6ms\n",
      "Speed: 1.6ms preprocess, 58.6ms inference, 0.6ms postprocess per image at shape (1, 3, 384, 640)\n",
      "\n",
      "0: 384x640 1 person, 1 backpack, 41.6ms\n",
      "Speed: 1.5ms preprocess, 41.6ms inference, 0.7ms postprocess per image at shape (1, 3, 384, 640)\n",
      "\n",
      "0: 384x640 1 person, 1 backpack, 46.7ms\n",
      "Speed: 1.6ms preprocess, 46.7ms inference, 0.5ms postprocess per image at shape (1, 3, 384, 640)\n"
     ]
    },
    {
     "name": "stderr",
     "output_type": "stream",
     "text": [
      "127.0.0.1 - - [10/Apr/2025 20:21:31] \"GET /get_tracking_action HTTP/1.1\" 200 -\n"
     ]
    },
    {
     "name": "stdout",
     "output_type": "stream",
     "text": [
      "\n",
      "0: 384x640 1 person, 1 backpack, 53.1ms\n",
      "Speed: 2.4ms preprocess, 53.1ms inference, 1.0ms postprocess per image at shape (1, 3, 384, 640)\n",
      "\n",
      "0: 384x640 1 person, 1 backpack, 46.8ms\n",
      "Speed: 2.0ms preprocess, 46.8ms inference, 0.6ms postprocess per image at shape (1, 3, 384, 640)\n",
      "\n",
      "0: 384x640 1 person, 1 backpack, 49.5ms\n",
      "Speed: 2.2ms preprocess, 49.5ms inference, 0.6ms postprocess per image at shape (1, 3, 384, 640)\n"
     ]
    },
    {
     "name": "stderr",
     "output_type": "stream",
     "text": [
      "127.0.0.1 - - [10/Apr/2025 20:21:32] \"GET /get_tracking_action HTTP/1.1\" 200 -\n"
     ]
    },
    {
     "name": "stdout",
     "output_type": "stream",
     "text": [
      "\n",
      "0: 384x640 1 person, 1 backpack, 50.1ms\n",
      "Speed: 1.5ms preprocess, 50.1ms inference, 0.8ms postprocess per image at shape (1, 3, 384, 640)\n",
      "\n",
      "0: 384x640 1 person, 1 backpack, 47.1ms\n",
      "Speed: 2.6ms preprocess, 47.1ms inference, 0.6ms postprocess per image at shape (1, 3, 384, 640)\n",
      "\n",
      "0: 384x640 1 person, 1 backpack, 49.5ms\n",
      "Speed: 3.1ms preprocess, 49.5ms inference, 0.6ms postprocess per image at shape (1, 3, 384, 640)\n"
     ]
    },
    {
     "name": "stderr",
     "output_type": "stream",
     "text": [
      "127.0.0.1 - - [10/Apr/2025 20:21:33] \"GET /get_tracking_action HTTP/1.1\" 200 -\n"
     ]
    },
    {
     "name": "stdout",
     "output_type": "stream",
     "text": [
      "\n",
      "0: 384x640 1 person, 1 backpack, 45.0ms\n",
      "Speed: 1.6ms preprocess, 45.0ms inference, 0.7ms postprocess per image at shape (1, 3, 384, 640)\n",
      "\n",
      "0: 384x640 1 person, 1 backpack, 42.4ms\n",
      "Speed: 1.7ms preprocess, 42.4ms inference, 0.7ms postprocess per image at shape (1, 3, 384, 640)\n",
      "\n"
     ]
    },
    {
     "name": "stderr",
     "output_type": "stream",
     "text": [
      "127.0.0.1 - - [10/Apr/2025 20:21:34] \"GET /get_tracking_action HTTP/1.1\" 200 -\n"
     ]
    },
    {
     "name": "stdout",
     "output_type": "stream",
     "text": [
      "0: 384x640 1 person, 1 backpack, 45.4ms\n",
      "Speed: 1.7ms preprocess, 45.4ms inference, 0.7ms postprocess per image at shape (1, 3, 384, 640)\n",
      "\n",
      "0: 384x640 1 person, 1 backpack, 70.2ms\n",
      "Speed: 2.4ms preprocess, 70.2ms inference, 1.3ms postprocess per image at shape (1, 3, 384, 640)\n",
      "\n",
      "0: 384x640 1 person, 1 backpack, 46.0ms\n",
      "Speed: 2.1ms preprocess, 46.0ms inference, 0.6ms postprocess per image at shape (1, 3, 384, 640)\n"
     ]
    },
    {
     "name": "stderr",
     "output_type": "stream",
     "text": [
      "127.0.0.1 - - [10/Apr/2025 20:21:35] \"GET /get_tracking_action HTTP/1.1\" 200 -\n"
     ]
    },
    {
     "name": "stdout",
     "output_type": "stream",
     "text": [
      "\n",
      "0: 384x640 1 person, 1 backpack, 42.1ms\n",
      "Speed: 1.6ms preprocess, 42.1ms inference, 0.5ms postprocess per image at shape (1, 3, 384, 640)\n",
      "\n",
      "0: 384x640 1 person, 1 backpack, 53.4ms\n",
      "Speed: 10.1ms preprocess, 53.4ms inference, 0.6ms postprocess per image at shape (1, 3, 384, 640)\n",
      "\n",
      "0: 384x640 1 person, 1 backpack, 42.1ms\n",
      "Speed: 1.8ms preprocess, 42.1ms inference, 0.6ms postprocess per image at shape (1, 3, 384, 640)\n"
     ]
    },
    {
     "name": "stderr",
     "output_type": "stream",
     "text": [
      "127.0.0.1 - - [10/Apr/2025 20:21:36] \"GET /get_tracking_action HTTP/1.1\" 200 -\n"
     ]
    },
    {
     "name": "stdout",
     "output_type": "stream",
     "text": [
      "\n",
      "0: 384x640 1 person, 1 backpack, 44.6ms\n",
      "Speed: 1.7ms preprocess, 44.6ms inference, 0.5ms postprocess per image at shape (1, 3, 384, 640)\n",
      "\n",
      "0: 384x640 1 person, 1 backpack, 42.5ms\n",
      "Speed: 1.6ms preprocess, 42.5ms inference, 0.6ms postprocess per image at shape (1, 3, 384, 640)\n",
      "\n",
      "0: 384x640 1 person, 1 backpack, 50.6ms\n",
      "Speed: 1.6ms preprocess, 50.6ms inference, 0.8ms postprocess per image at shape (1, 3, 384, 640)\n"
     ]
    },
    {
     "name": "stderr",
     "output_type": "stream",
     "text": [
      "127.0.0.1 - - [10/Apr/2025 20:21:37] \"GET /get_tracking_action HTTP/1.1\" 200 -\n"
     ]
    },
    {
     "name": "stdout",
     "output_type": "stream",
     "text": [
      "\n",
      "0: 384x640 1 person, 1 backpack, 1 tie, 47.9ms\n",
      "Speed: 1.6ms preprocess, 47.9ms inference, 3.4ms postprocess per image at shape (1, 3, 384, 640)\n",
      "\n",
      "0: 384x640 1 person, 1 backpack, 1 tie, 56.4ms\n",
      "Speed: 1.8ms preprocess, 56.4ms inference, 0.6ms postprocess per image at shape (1, 3, 384, 640)\n",
      "\n"
     ]
    },
    {
     "name": "stderr",
     "output_type": "stream",
     "text": [
      "127.0.0.1 - - [10/Apr/2025 20:21:38] \"GET /get_tracking_action HTTP/1.1\" 200 -\n"
     ]
    },
    {
     "name": "stdout",
     "output_type": "stream",
     "text": [
      "0: 384x640 1 person, 1 backpack, 1 tie, 54.4ms\n",
      "Speed: 1.9ms preprocess, 54.4ms inference, 0.7ms postprocess per image at shape (1, 3, 384, 640)\n",
      "\n",
      "0: 384x640 1 person, 1 backpack, 46.6ms\n",
      "Speed: 2.7ms preprocess, 46.6ms inference, 0.7ms postprocess per image at shape (1, 3, 384, 640)\n",
      "\n",
      "0: 384x640 1 person, 1 backpack, 46.6ms\n",
      "Speed: 1.9ms preprocess, 46.6ms inference, 0.6ms postprocess per image at shape (1, 3, 384, 640)\n"
     ]
    },
    {
     "name": "stderr",
     "output_type": "stream",
     "text": [
      "127.0.0.1 - - [10/Apr/2025 20:21:39] \"GET /get_tracking_action HTTP/1.1\" 200 -\n"
     ]
    },
    {
     "name": "stdout",
     "output_type": "stream",
     "text": [
      "\n",
      "0: 384x640 1 person, 1 backpack, 47.3ms\n",
      "Speed: 2.1ms preprocess, 47.3ms inference, 0.7ms postprocess per image at shape (1, 3, 384, 640)\n",
      "\n",
      "0: 384x640 1 person, 41.9ms\n",
      "Speed: 1.8ms preprocess, 41.9ms inference, 0.7ms postprocess per image at shape (1, 3, 384, 640)\n",
      "\n",
      "0: 384x640 1 person, 51.8ms\n",
      "Speed: 2.2ms preprocess, 51.8ms inference, 0.6ms postprocess per image at shape (1, 3, 384, 640)\n",
      "\n"
     ]
    },
    {
     "name": "stderr",
     "output_type": "stream",
     "text": [
      "127.0.0.1 - - [10/Apr/2025 20:21:40] \"GET /get_tracking_action HTTP/1.1\" 200 -\n"
     ]
    },
    {
     "name": "stdout",
     "output_type": "stream",
     "text": [
      "0: 384x640 1 person, 1 tie, 76.7ms\n",
      "Speed: 1.7ms preprocess, 76.7ms inference, 1.2ms postprocess per image at shape (1, 3, 384, 640)\n",
      "\n",
      "0: 384x640 1 person, 1 tie, 53.1ms\n",
      "Speed: 4.5ms preprocess, 53.1ms inference, 0.6ms postprocess per image at shape (1, 3, 384, 640)\n"
     ]
    },
    {
     "name": "stderr",
     "output_type": "stream",
     "text": [
      "127.0.0.1 - - [10/Apr/2025 20:21:41] \"GET /get_tracking_action HTTP/1.1\" 200 -\n"
     ]
    },
    {
     "name": "stdout",
     "output_type": "stream",
     "text": [
      "\n",
      "0: 384x640 1 person, 1 backpack, 1 tie, 67.8ms\n",
      "Speed: 1.6ms preprocess, 67.8ms inference, 0.7ms postprocess per image at shape (1, 3, 384, 640)\n",
      "\n",
      "0: 384x640 1 person, 1 backpack, 1 tie, 74.1ms\n",
      "Speed: 2.2ms preprocess, 74.1ms inference, 1.0ms postprocess per image at shape (1, 3, 384, 640)\n",
      "\n"
     ]
    },
    {
     "name": "stderr",
     "output_type": "stream",
     "text": [
      "127.0.0.1 - - [10/Apr/2025 20:21:42] \"GET /get_tracking_action HTTP/1.1\" 200 -\n"
     ]
    },
    {
     "name": "stdout",
     "output_type": "stream",
     "text": [
      "0: 384x640 1 person, 1 backpack, 1 tie, 79.9ms\n",
      "Speed: 5.6ms preprocess, 79.9ms inference, 1.0ms postprocess per image at shape (1, 3, 384, 640)\n",
      "\n",
      "0: 384x640 1 person, 1 backpack, 1 tie, 83.8ms\n",
      "Speed: 1.7ms preprocess, 83.8ms inference, 0.6ms postprocess per image at shape (1, 3, 384, 640)\n"
     ]
    },
    {
     "name": "stderr",
     "output_type": "stream",
     "text": [
      "127.0.0.1 - - [10/Apr/2025 20:21:43] \"GET /get_tracking_action HTTP/1.1\" 200 -\n"
     ]
    },
    {
     "name": "stdout",
     "output_type": "stream",
     "text": [
      "\n",
      "0: 384x640 1 person, 1 backpack, 1 tie, 413.8ms\n",
      "Speed: 45.5ms preprocess, 413.8ms inference, 1.9ms postprocess per image at shape (1, 3, 384, 640)\n"
     ]
    },
    {
     "name": "stderr",
     "output_type": "stream",
     "text": [
      "127.0.0.1 - - [10/Apr/2025 20:21:44] \"GET /get_tracking_action HTTP/1.1\" 200 -\n"
     ]
    },
    {
     "name": "stdout",
     "output_type": "stream",
     "text": [
      "\n",
      "0: 384x640 1 person, 1 backpack, 1 tie, 47.8ms\n",
      "Speed: 2.3ms preprocess, 47.8ms inference, 0.8ms postprocess per image at shape (1, 3, 384, 640)\n",
      "\n",
      "0: 384x640 1 person, 1 backpack, 1 tie, 50.8ms\n",
      "Speed: 1.9ms preprocess, 50.8ms inference, 0.6ms postprocess per image at shape (1, 3, 384, 640)\n",
      "\n"
     ]
    },
    {
     "name": "stderr",
     "output_type": "stream",
     "text": [
      "127.0.0.1 - - [10/Apr/2025 20:21:45] \"GET /get_tracking_action HTTP/1.1\" 200 -\n"
     ]
    },
    {
     "name": "stdout",
     "output_type": "stream",
     "text": [
      "0: 384x640 1 person, 1 backpack, 1 tie, 60.4ms\n",
      "Speed: 3.4ms preprocess, 60.4ms inference, 1.1ms postprocess per image at shape (1, 3, 384, 640)\n",
      "\n",
      "0: 384x640 1 person, 1 backpack, 1 tie, 54.3ms\n",
      "Speed: 4.2ms preprocess, 54.3ms inference, 1.0ms postprocess per image at shape (1, 3, 384, 640)\n",
      "\n",
      "0: 384x640 1 person, 1 backpack, 1 tie, 74.1ms\n",
      "Speed: 2.0ms preprocess, 74.1ms inference, 1.0ms postprocess per image at shape (1, 3, 384, 640)\n"
     ]
    },
    {
     "name": "stderr",
     "output_type": "stream",
     "text": [
      "127.0.0.1 - - [10/Apr/2025 20:21:46] \"GET /get_tracking_action HTTP/1.1\" 200 -\n"
     ]
    },
    {
     "name": "stdout",
     "output_type": "stream",
     "text": [
      "\n",
      "0: 384x640 1 person, 1 backpack, 1 tie, 67.5ms\n",
      "Speed: 2.5ms preprocess, 67.5ms inference, 0.6ms postprocess per image at shape (1, 3, 384, 640)\n"
     ]
    }
   ],
   "source": [
    "import cv2\n",
    "from flask import Flask, Response, render_template, request, jsonify\n",
    "import threading\n",
    "import socket\n",
    "from camera_functions import yolo_results, yolo_ds_draw, yolo_ds_model_initalize, yolo_ds_update\n",
    "#from motor_control import tracking_move\n",
    "def tracking_move(id, class_label, objects_centers, latest_frame):\n",
    "    \"\"\"\n",
    "    Function to track the object based on its ID and class label.\n",
    "    Args:\n",
    "        id (int): The ID of the object.\n",
    "        class_label (str): The class label of the object.\n",
    "        center_x (int): The x-coordinate of the object's center.\n",
    "        center_y (int): The y-coordinate of the object's center.\n",
    "        frame_shape (tuple): The shape of the frame (height, width).\n",
    "    \"\"\"\n",
    "        # Get the width and height of the frame\n",
    "    frame_height, frame_width, _ = latest_frame.shape\n",
    "\n",
    "    # Define movement thresholds\n",
    "    left_threshold = frame_width // 3\n",
    "    right_threshold = 2 * frame_width // 3\n",
    "    up_threshold = frame_height // 3\n",
    "    down_threshold = 2 * frame_height // 3\n",
    "    \n",
    "    # Get the object's center coordinates\n",
    "    object_center = None\n",
    "    for obj in objects_centers:\n",
    "        if obj[0] == str(id):\n",
    "            object_center = obj\n",
    "            break\n",
    "    \n",
    "    # If the object with the selected ID is not found, return\n",
    "    if object_center is None:\n",
    "        print(f\"Error: Object with ID {id} not found.\")\n",
    "        return\n",
    "\n",
    "    # Get the center coordinates of the selected object\n",
    "    center_x, center_y = object_center[2], object_center[3]\n",
    "    # Movement variables\n",
    "    # Movement variables\n",
    "    action = \"\"\n",
    "\n",
    "    # Determine movement based on car's position\n",
    "    if center_x < left_threshold:\n",
    "        action = \"Turn Left\"\n",
    "    elif center_x > right_threshold:\n",
    "        action = \"Turn Right\"\n",
    "    else:\n",
    "        action = \"no action\"\n",
    "    update_tracking_action(action)\n",
    "\n",
    "def update_tracking_action(action):\n",
    "    \"\"\"\n",
    "    Update the tracking action in the Flask backend, sending it to the frontend.\n",
    "    \"\"\"\n",
    "    global tracking_action\n",
    "    tracking_action = action\n",
    "\n",
    "# Initialize Flask app\n",
    "app = Flask(__name__)\n",
    "\n",
    "model, class_names, tracker = yolo_ds_model_initalize(model_name=\"yolo11n.pt\")\n",
    "\n",
    "frame_lock = threading.Lock()\n",
    "latest_frame = None\n",
    "annotated_frame = None\n",
    "last_detections = []\n",
    "frame_count = 0\n",
    "tracking_defined = False\n",
    "target_id = None\n",
    "target_class_label = None\n",
    "tracking_action = \"\"\n",
    "\n",
    "def capture_and_process():\n",
    "    global latest_frame, annotated_frame, last_detections, frame_count, tracking_defined, target_id, target_class_label\n",
    "    cap = cv2.VideoCapture(0)\n",
    "    while True:\n",
    "        ret, frame = cap.read()\n",
    "        if not ret:\n",
    "            continue\n",
    "\n",
    "        frame_count += 1\n",
    "\n",
    "        with frame_lock:\n",
    "            latest_frame = frame.copy()\n",
    "\n",
    "            if frame_count % 2 == 0:\n",
    "                # Run YOLO detection every 2nd frame\n",
    "                results, detections = yolo_results(model, latest_frame)\n",
    "                last_detections = yolo_ds_update(latest_frame, detections, tracker)\n",
    "\n",
    "            # Now unpack all three returned values from yolo_ds_draw\n",
    "            annotated_frame, objects_centers = yolo_ds_draw(latest_frame, last_detections, class_names)\n",
    "\n",
    "            # Move the motors based on the detected objects\n",
    "            if tracking_defined:\n",
    "                tracking_move(target_id, target_class_label, objects_centers, frame)\n",
    "\n",
    "\n",
    "def get_ip_address():\n",
    "    hostname = socket.gethostname()  # Get the hostname of the server\n",
    "    ip_address = socket.gethostbyname(hostname)  # Resolve the IP address of the hostname\n",
    "    return ip_address\n",
    "\n",
    "@app.route('/')\n",
    "def index():\n",
    "    ip_address = get_ip_address()\n",
    "    return render_template('index_test_yolo_tracking.html', ip_address=ip_address)\n",
    "\n",
    "# Function to generate video frames for Flask streaming\n",
    "def generate():\n",
    "    global annotated_frame\n",
    "    while True:\n",
    "        with frame_lock:\n",
    "            if annotated_frame is None:\n",
    "                continue\n",
    "            ret, buffer = cv2.imencode('.jpg', annotated_frame)\n",
    "            if not ret:\n",
    "                continue\n",
    "            frame_bytes = buffer.tobytes()\n",
    "\n",
    "        yield (b'--frame\\r\\n'\n",
    "               b'Content-Type: image/jpeg\\r\\n\\r\\n' + frame_bytes + b'\\r\\n\\r\\n')\n",
    "\n",
    "@app.route('/video_feed')\n",
    "def video_feed():\n",
    "    return Response(generate(), mimetype='multipart/x-mixed-replace; boundary=frame')\n",
    "\n",
    "# Handle object selection via front-end input\n",
    "@app.route('/select_object', methods=['POST'])\n",
    "def select_object():\n",
    "    global tracking_defined, target_id, target_class_label\n",
    "    data = request.get_json()\n",
    "    target_id = int(data['id'])\n",
    "    target_class_label = data['class_label']\n",
    "    tracking_defined = True\n",
    "    return jsonify({\"status\": \"success\", \"message\": f\"Tracking {target_class_label} with ID {target_id}.\"})\n",
    "\n",
    "@app.route('/get_tracking_action', methods=['GET'])\n",
    "def get_tracking_action():\n",
    "    global tracking_action\n",
    "    return jsonify({\"action\": tracking_action})\n",
    "\n",
    "if __name__ == '__main__':\n",
    "    threading.Thread(target=capture_and_process, daemon=True).start()\n",
    "    app.run(host='0.0.0.0', port=4000, threaded=True)\n"
   ]
  }
 ],
 "metadata": {
  "kernelspec": {
   "display_name": "yolo_deployment",
   "language": "python",
   "name": "python3"
  },
  "language_info": {
   "codemirror_mode": {
    "name": "ipython",
    "version": 3
   },
   "file_extension": ".py",
   "mimetype": "text/x-python",
   "name": "python",
   "nbconvert_exporter": "python",
   "pygments_lexer": "ipython3",
   "version": "3.12.9"
  }
 },
 "nbformat": 4,
 "nbformat_minor": 2
}
